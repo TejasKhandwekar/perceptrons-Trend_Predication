{
 "cells": [
  {
   "cell_type": "markdown",
   "metadata": {
    "id": "aeppA1t3iLco"
   },
   "source": [
    "## Colab Setup"
   ]
  },
  {
   "cell_type": "code",
   "execution_count": 1,
   "metadata": {
    "colab": {
     "base_uri": "https://localhost:8080/"
    },
    "id": "cgd9BaVffO5K",
    "outputId": "d7c97904-d39a-4b4b-9503-6acc14a52caf"
   },
   "outputs": [
    {
     "name": "stdout",
     "output_type": "stream",
     "text": [
      "TensorFlow 1.x selected.\n"
     ]
    }
   ],
   "source": [
    "%tensorflow_version 1.x"
   ]
  },
  {
   "cell_type": "code",
   "execution_count": 2,
   "metadata": {
    "id": "6wia8RROfRyE"
   },
   "outputs": [],
   "source": [
    "# !pip install Keras==2.1"
   ]
  },
  {
   "cell_type": "code",
   "execution_count": 3,
   "metadata": {
    "colab": {
     "base_uri": "https://localhost:8080/"
    },
    "id": "_Swg0GTqiYUR",
    "outputId": "eebe8f72-8138-41c5-b62b-e1c41ff1b51c"
   },
   "outputs": [
    {
     "name": "stdout",
     "output_type": "stream",
     "text": [
      "Mounted at /content/drive\n"
     ]
    }
   ],
   "source": [
    "# mounting and connecting with drive\n",
    "from google.colab import drive\n",
    "drive.mount('/content/drive')"
   ]
  },
  {
   "cell_type": "code",
   "execution_count": 4,
   "metadata": {
    "id": "ihQoHnOpnpIF"
   },
   "outputs": [],
   "source": [
    "import warnings \n",
    "warnings.filterwarnings(\"ignore\")"
   ]
  },
  {
   "cell_type": "code",
   "execution_count": 5,
   "metadata": {
    "id": "kOFCQQ6vioP9"
   },
   "outputs": [],
   "source": [
    "# importing libraries\n",
    "import os\n",
    "import gc\n",
    "import sys\n",
    "import math\n",
    "import json\n",
    "import glob\n",
    "import random\n",
    "from pathlib import Path\n",
    "\n",
    "import cv2\n",
    "import numpy as np\n",
    "import pandas as pd\n",
    "import matplotlib.pyplot as plt\n",
    "import seaborn as sns\n",
    "import skimage.io\n",
    "from IPython.display import clear_output\n",
    "\n",
    "import itertools\n",
    "from tqdm import tqdm\n",
    "\n",
    "from imgaug import augmenters as iaa\n",
    "from sklearn.model_selection import StratifiedKFold, KFold\n",
    "\n",
    "import tensorflow as tf"
   ]
  },
  {
   "cell_type": "code",
   "execution_count": 6,
   "metadata": {
    "id": "3qymY3pZimRT"
   },
   "outputs": [],
   "source": [
    "# setting up path directory\n",
    "DATA_DIR = Path('/content/drive/My Drive/myntra /')\n",
    "ROOT_DIR = Path('/content/')\n",
    "IMAGE_DIR = Path('/content/drive/My Drive/myntra /Train large')\n",
    "\n",
    "# For demonstration purpose, the classification ignores attributes (only categories),\n",
    "# and the image size is set to 512, which is the same as the size of submission masks\n",
    "\n",
    "NUM_CATS = 46\n",
    "IMAGE_SIZE = 512"
   ]
  },
  {
   "cell_type": "markdown",
   "metadata": {
    "id": "L5reMvwmkmQk"
   },
   "source": [
    "## Setting up Mask RCNN"
   ]
  },
  {
   "cell_type": "code",
   "execution_count": 7,
   "metadata": {
    "colab": {
     "base_uri": "https://localhost:8080/"
    },
    "id": "EzjVW3C9Uz0h",
    "outputId": "a9b65bf4-d543-48c8-9b8e-9b6a3dc0233f"
   },
   "outputs": [
    {
     "name": "stdout",
     "output_type": "stream",
     "text": [
      "Cloning into 'Mask_RCNN'...\n",
      "warning: redirecting to https://github.com/matterport/Mask_RCNN.git/\n",
      "remote: Enumerating objects: 956, done.\u001b[K\n",
      "remote: Total 956 (delta 0), reused 0 (delta 0), pack-reused 956\u001b[K\n",
      "Receiving objects: 100% (956/956), 125.24 MiB | 16.19 MiB/s, done.\n",
      "Resolving deltas: 100% (559/559), done.\n",
      "Checking out files: 100% (76/76), done.\n",
      "assets\tLICENSE      mrcnn\trequirements.txt  setup.cfg\n",
      "images\tMANIFEST.in  README.md\tsamples\t\t  setup.py\n"
     ]
    }
   ],
   "source": [
    "os.chdir(\"/content\")\n",
    "!rm -rf Mask_RCNN \n",
    "\n",
    "# import matterport Mask-RCNN implementation\n",
    "!git clone https://www.github.com/matterport/Mask_RCNN.git;\n",
    "os.chdir('Mask_RCNN')\n",
    "!ls\n",
    "!rm -rf .git # to prevent an error when the kernel is committed\n",
    "!rm -rf images assets # to prevent displaying images at the bottom of a kernel"
   ]
  },
  {
   "cell_type": "code",
   "execution_count": 8,
   "metadata": {
    "colab": {
     "base_uri": "https://localhost:8080/"
    },
    "id": "qPNrm8gdjzDM",
    "outputId": "eb989f14-1570-41e5-8e84-7fd76c881d11"
   },
   "outputs": [
    {
     "name": "stderr",
     "output_type": "stream",
     "text": [
      "Using TensorFlow backend.\n"
     ]
    }
   ],
   "source": [
    "sys.path.append(ROOT_DIR/'Mask_RCNN')\n",
    "from mrcnn.config import Config\n",
    "from mrcnn import utils\n",
    "import mrcnn.model as modellib\n",
    "from mrcnn import visualize\n",
    "from mrcnn.model import log"
   ]
  },
  {
   "cell_type": "code",
   "execution_count": 9,
   "metadata": {
    "colab": {
     "base_uri": "https://localhost:8080/"
    },
    "id": "gsJqumHBkKkB",
    "outputId": "816e7930-0ab1-41a9-bd69-9e6704ac4b42"
   },
   "outputs": [
    {
     "name": "stdout",
     "output_type": "stream",
     "text": [
      "-rw-r--r-- 1 root root 246M Nov 26  2017 mask_rcnn_coco.h5\n"
     ]
    }
   ],
   "source": [
    "!wget --quiet https://github.com/matterport/Mask_RCNN/releases/download/v2.0/mask_rcnn_coco.h5\n",
    "!ls -lh mask_rcnn_coco.h5\n",
    "\n",
    "COCO_WEIGHTS_PATH = 'mask_rcnn_coco.h5'"
   ]
  },
  {
   "cell_type": "code",
   "execution_count": 10,
   "metadata": {
    "colab": {
     "base_uri": "https://localhost:8080/"
    },
    "id": "rACUf5TqXALr",
    "outputId": "7639e7db-c736-496e-902c-d42e5ca13847"
   },
   "outputs": [
    {
     "name": "stdout",
     "output_type": "stream",
     "text": [
      "\n",
      "Configurations:\n",
      "BACKBONE                       resnet50\n",
      "BACKBONE_STRIDES               [4, 8, 16, 32, 64]\n",
      "BATCH_SIZE                     4\n",
      "BBOX_STD_DEV                   [0.1 0.1 0.2 0.2]\n",
      "COMPUTE_BACKBONE_SHAPE         None\n",
      "DETECTION_MAX_INSTANCES        100\n",
      "DETECTION_MIN_CONFIDENCE       0.7\n",
      "DETECTION_NMS_THRESHOLD        0.3\n",
      "FPN_CLASSIF_FC_LAYERS_SIZE     1024\n",
      "GPU_COUNT                      1\n",
      "GRADIENT_CLIP_NORM             5.0\n",
      "IMAGES_PER_GPU                 4\n",
      "IMAGE_CHANNEL_COUNT            3\n",
      "IMAGE_MAX_DIM                  512\n",
      "IMAGE_META_SIZE                59\n",
      "IMAGE_MIN_DIM                  512\n",
      "IMAGE_MIN_SCALE                0\n",
      "IMAGE_RESIZE_MODE              none\n",
      "IMAGE_SHAPE                    [512 512   3]\n",
      "LEARNING_MOMENTUM              0.9\n",
      "LEARNING_RATE                  0.001\n",
      "LOSS_WEIGHTS                   {'rpn_class_loss': 1.0, 'rpn_bbox_loss': 1.0, 'mrcnn_class_loss': 1.0, 'mrcnn_bbox_loss': 1.0, 'mrcnn_mask_loss': 1.0}\n",
      "MASK_POOL_SIZE                 14\n",
      "MASK_SHAPE                     [28, 28]\n",
      "MAX_GT_INSTANCES               100\n",
      "MEAN_PIXEL                     [123.7 116.8 103.9]\n",
      "MINI_MASK_SHAPE                (56, 56)\n",
      "NAME                           fashion\n",
      "NUM_CLASSES                    47\n",
      "POOL_SIZE                      7\n",
      "POST_NMS_ROIS_INFERENCE        1000\n",
      "POST_NMS_ROIS_TRAINING         2000\n",
      "PRE_NMS_LIMIT                  6000\n",
      "ROI_POSITIVE_RATIO             0.33\n",
      "RPN_ANCHOR_RATIOS              [0.5, 1, 2]\n",
      "RPN_ANCHOR_SCALES              (16, 32, 64, 128, 256)\n",
      "RPN_ANCHOR_STRIDE              1\n",
      "RPN_BBOX_STD_DEV               [0.1 0.1 0.2 0.2]\n",
      "RPN_NMS_THRESHOLD              0.7\n",
      "RPN_TRAIN_ANCHORS_PER_IMAGE    256\n",
      "STEPS_PER_EPOCH                1000\n",
      "TOP_DOWN_PYRAMID_SIZE          256\n",
      "TRAIN_BN                       False\n",
      "TRAIN_ROIS_PER_IMAGE           200\n",
      "USE_MINI_MASK                  True\n",
      "USE_RPN_ROIS                   True\n",
      "VALIDATION_STEPS               200\n",
      "WEIGHT_DECAY                   0.0001\n",
      "\n",
      "\n"
     ]
    }
   ],
   "source": [
    "class FashionConfig(Config):\n",
    "    NAME = \"fashion\"\n",
    "    NUM_CLASSES = NUM_CATS + 1 # +1 for the background class\n",
    "    \n",
    "    GPU_COUNT = 1\n",
    "    IMAGES_PER_GPU = 4 # a memory error occurs when IMAGES_PER_GPU is too high\n",
    "    \n",
    "    BACKBONE = 'resnet50'\n",
    "    \n",
    "    IMAGE_MIN_DIM = IMAGE_SIZE\n",
    "    IMAGE_MAX_DIM = IMAGE_SIZE    \n",
    "    IMAGE_RESIZE_MODE = 'none'\n",
    "    \n",
    "    RPN_ANCHOR_SCALES = (16, 32, 64, 128, 256)\n",
    "    #DETECTION_NMS_THRESHOLD = 0.0\n",
    "    \n",
    "    # STEPS_PER_EPOCH should be the number of instances \n",
    "    # divided by (GPU_COUNT*IMAGES_PER_GPU), and so should VALIDATION_STEPS;\n",
    "    # however, due to the time limit, I set them so that this kernel can be run in 9 hours\n",
    "    STEPS_PER_EPOCH = 1000\n",
    "    VALIDATION_STEPS = 200\n",
    "#     STEPS_PER_EPOCH = 10\n",
    "#     VALIDATION_STEPS = 2\n",
    "    \n",
    "config = FashionConfig()\n",
    "config.display()"
   ]
  },
  {
   "cell_type": "code",
   "execution_count": 11,
   "metadata": {
    "id": "dGOZqtE9XC4_"
   },
   "outputs": [],
   "source": [
    "with open(DATA_DIR/\"labels.json\") as f:\n",
    "    label_descriptions = json.load(f)\n",
    "\n",
    "label_names = [x['name'] for x in label_descriptions['categories']]\n",
    "attribute_names = [x['name'] for x in label_descriptions['attributes']]"
   ]
  },
  {
   "cell_type": "code",
   "execution_count": 12,
   "metadata": {
    "colab": {
     "base_uri": "https://localhost:8080/"
    },
    "id": "TQ882QJpXLtd",
    "outputId": "ed5fcb8c-01ea-43d7-d6d7-216ae015b4b7"
   },
   "outputs": [
    {
     "name": "stdout",
     "output_type": "stream",
     "text": [
      "46\n",
      "92\n"
     ]
    }
   ],
   "source": [
    "print(len(label_names))\n",
    "print(len(attribute_names))"
   ]
  },
  {
   "cell_type": "code",
   "execution_count": 13,
   "metadata": {
    "colab": {
     "base_uri": "https://localhost:8080/"
    },
    "id": "qyq8z2AjXVV8",
    "outputId": "b2333d4b-9fbf-4d9d-8687-30d3b84867c7"
   },
   "outputs": [
    {
     "data": {
      "text/plain": [
       "['shirt, blouse',\n",
       " 'top, t-shirt, sweatshirt',\n",
       " 'sweater',\n",
       " 'cardigan',\n",
       " 'jacket',\n",
       " 'vest',\n",
       " 'pants',\n",
       " 'shorts',\n",
       " 'skirt',\n",
       " 'coat',\n",
       " 'dress',\n",
       " 'jumpsuit',\n",
       " 'cape',\n",
       " 'glasses',\n",
       " 'hat',\n",
       " 'headband, head covering, hair accessory',\n",
       " 'tie',\n",
       " 'glove',\n",
       " 'watch',\n",
       " 'belt',\n",
       " 'leg warmer',\n",
       " 'tights, stockings',\n",
       " 'sock',\n",
       " 'shoe',\n",
       " 'bag, wallet',\n",
       " 'scarf',\n",
       " 'umbrella',\n",
       " 'hood',\n",
       " 'collar',\n",
       " 'lapel',\n",
       " 'epaulette',\n",
       " 'sleeve',\n",
       " 'pocket',\n",
       " 'neckline',\n",
       " 'buckle',\n",
       " 'zipper',\n",
       " 'applique',\n",
       " 'bead',\n",
       " 'bow',\n",
       " 'flower',\n",
       " 'fringe',\n",
       " 'ribbon',\n",
       " 'rivet',\n",
       " 'ruffle',\n",
       " 'sequin',\n",
       " 'tassel']"
      ]
     },
     "execution_count": 13,
     "metadata": {
      "tags": []
     },
     "output_type": "execute_result"
    }
   ],
   "source": [
    "label_names"
   ]
  },
  {
   "cell_type": "code",
   "execution_count": 14,
   "metadata": {
    "colab": {
     "base_uri": "https://localhost:8080/"
    },
    "id": "Cbi2GOMtXXFD",
    "outputId": "407c72ae-66d6-4dc6-8a18-7e1029321c6f"
   },
   "outputs": [
    {
     "data": {
      "text/plain": [
       "['above-the-hip (length)',\n",
       " 'hip (length)',\n",
       " 'micro (length)',\n",
       " 'mini (length)',\n",
       " 'above-the-knee (length)',\n",
       " 'knee (length)',\n",
       " 'below the knee (length)',\n",
       " 'midi',\n",
       " 'maxi (length)',\n",
       " 'floor (length)',\n",
       " 'single breasted',\n",
       " 'double breasted',\n",
       " 'lace up',\n",
       " 'wrapping',\n",
       " 'zip-up',\n",
       " 'fly (opening)',\n",
       " 'buckled (opening)',\n",
       " 'toggled (opening)',\n",
       " 'no opening',\n",
       " 'asymmetrical',\n",
       " 'symmetrical',\n",
       " 'peplum',\n",
       " 'circle',\n",
       " 'flare',\n",
       " 'fit and flare',\n",
       " 'trumpet',\n",
       " 'mermaid',\n",
       " 'balloon',\n",
       " 'bell',\n",
       " 'bell bottom',\n",
       " 'bootcut',\n",
       " 'peg',\n",
       " 'pencil',\n",
       " 'straight',\n",
       " 'a-line',\n",
       " 'tent',\n",
       " 'baggy',\n",
       " 'wide leg',\n",
       " 'high low',\n",
       " 'curved (fit)',\n",
       " 'tight (fit)',\n",
       " 'regular (fit)',\n",
       " 'loose (fit)',\n",
       " 'oversized',\n",
       " 'burnout',\n",
       " 'distressed',\n",
       " 'washed',\n",
       " 'embossed',\n",
       " 'frayed',\n",
       " 'printed',\n",
       " 'ruched',\n",
       " 'quilted',\n",
       " 'pleat',\n",
       " 'gathering',\n",
       " 'smocking',\n",
       " 'tiered',\n",
       " 'cutout',\n",
       " 'slit',\n",
       " 'perforated',\n",
       " 'lining',\n",
       " 'no special manufacturing technique',\n",
       " 'plain (pattern)',\n",
       " 'abstract',\n",
       " 'cartoon',\n",
       " 'letters, numbers',\n",
       " 'camouflage',\n",
       " 'check',\n",
       " 'dot',\n",
       " 'fair isle',\n",
       " 'floral',\n",
       " 'geometric',\n",
       " 'paisley',\n",
       " 'stripe',\n",
       " 'houndstooth (pattern)',\n",
       " 'herringbone (pattern)',\n",
       " 'chevron',\n",
       " 'argyle',\n",
       " 'leopard',\n",
       " 'snakeskin (pattern)',\n",
       " 'cheetah',\n",
       " 'peacock',\n",
       " 'zebra',\n",
       " 'giraffe',\n",
       " 'toile de jouy',\n",
       " 'plant',\n",
       " 'empire waistline',\n",
       " 'dropped waistline',\n",
       " 'high waist',\n",
       " 'normal waist',\n",
       " 'low waist',\n",
       " 'basque (wasitline)',\n",
       " 'no waistline']"
      ]
     },
     "execution_count": 14,
     "metadata": {
      "tags": []
     },
     "output_type": "execute_result"
    }
   ],
   "source": [
    "attribute_names"
   ]
  },
  {
   "cell_type": "code",
   "execution_count": 15,
   "metadata": {
    "colab": {
     "base_uri": "https://localhost:8080/"
    },
    "id": "eYqTdq58XZUV",
    "outputId": "c8befa08-4c30-49bd-e056-434e76f749fc"
   },
   "outputs": [
    {
     "name": "stdout",
     "output_type": "stream",
     "text": [
      "le_segment_df 331213\n",
      "                                ImageId  ... ClassId\n",
      "0  00000663ed1ff0c4e0132b9b9ac53f6e.jpg  ...       6\n",
      "1  00000663ed1ff0c4e0132b9b9ac53f6e.jpg  ...       0\n",
      "2  00000663ed1ff0c4e0132b9b9ac53f6e.jpg  ...      28\n",
      "3  00000663ed1ff0c4e0132b9b9ac53f6e.jpg  ...      31\n",
      "4  00000663ed1ff0c4e0132b9b9ac53f6e.jpg  ...      32\n",
      "\n",
      "[5 rows x 5 columns]\n",
      "Segments that have attributes: 3.47%\n"
     ]
    }
   ],
   "source": [
    "segment_df = pd.read_csv(DATA_DIR/\"train.csv\")\n",
    "\n",
    "print('le_segment_df',len(segment_df))\n",
    "print(segment_df.head())\n",
    "multilabel_percent = len(segment_df[segment_df['ClassId'].str.contains('_')])/len(segment_df)*100\n",
    "print(f\"Segments that have attributes: {multilabel_percent:.2f}%\")"
   ]
  },
  {
   "cell_type": "code",
   "execution_count": 16,
   "metadata": {
    "colab": {
     "base_uri": "https://localhost:8080/"
    },
    "id": "8APg-hVAXb9E",
    "outputId": "3d3e2e40-779e-44a9-a586-13f1f89216b2"
   },
   "outputs": [
    {
     "data": {
      "text/plain": [
       "Index(['ImageId', 'EncodedPixels', 'Height', 'Width', 'ClassId'], dtype='object')"
      ]
     },
     "execution_count": 16,
     "metadata": {
      "tags": []
     },
     "output_type": "execute_result"
    }
   ],
   "source": [
    "segment_df.columns"
   ]
  },
  {
   "cell_type": "code",
   "execution_count": 17,
   "metadata": {
    "colab": {
     "base_uri": "https://localhost:8080/",
     "height": 238
    },
    "id": "eGaUjO14Xd6n",
    "outputId": "9432d415-547d-4b3c-f92b-1b2d43c562bc"
   },
   "outputs": [
    {
     "name": "stdout",
     "output_type": "stream",
     "text": [
      "Total segments:  331213\n",
      "max_id: 45\n"
     ]
    },
    {
     "data": {
      "text/html": [
       "<div>\n",
       "<style scoped>\n",
       "    .dataframe tbody tr th:only-of-type {\n",
       "        vertical-align: middle;\n",
       "    }\n",
       "\n",
       "    .dataframe tbody tr th {\n",
       "        vertical-align: top;\n",
       "    }\n",
       "\n",
       "    .dataframe thead th {\n",
       "        text-align: right;\n",
       "    }\n",
       "</style>\n",
       "<table border=\"1\" class=\"dataframe\">\n",
       "  <thead>\n",
       "    <tr style=\"text-align: right;\">\n",
       "      <th></th>\n",
       "      <th>ImageId</th>\n",
       "      <th>EncodedPixels</th>\n",
       "      <th>Height</th>\n",
       "      <th>Width</th>\n",
       "      <th>ClassId</th>\n",
       "      <th>CategoryId</th>\n",
       "      <th>AttributeId</th>\n",
       "    </tr>\n",
       "  </thead>\n",
       "  <tbody>\n",
       "    <tr>\n",
       "      <th>0</th>\n",
       "      <td>00000663ed1ff0c4e0132b9b9ac53f6e.jpg</td>\n",
       "      <td>6068157 7 6073371 20 6078584 34 6083797 48 608...</td>\n",
       "      <td>5214</td>\n",
       "      <td>3676</td>\n",
       "      <td>6</td>\n",
       "      <td>6</td>\n",
       "      <td>[]</td>\n",
       "    </tr>\n",
       "    <tr>\n",
       "      <th>1</th>\n",
       "      <td>00000663ed1ff0c4e0132b9b9ac53f6e.jpg</td>\n",
       "      <td>6323163 11 6328356 32 6333549 53 6338742 75 63...</td>\n",
       "      <td>5214</td>\n",
       "      <td>3676</td>\n",
       "      <td>0</td>\n",
       "      <td>0</td>\n",
       "      <td>[]</td>\n",
       "    </tr>\n",
       "    <tr>\n",
       "      <th>2</th>\n",
       "      <td>00000663ed1ff0c4e0132b9b9ac53f6e.jpg</td>\n",
       "      <td>8521389 10 8526585 30 8531789 42 8537002 46 85...</td>\n",
       "      <td>5214</td>\n",
       "      <td>3676</td>\n",
       "      <td>28</td>\n",
       "      <td>28</td>\n",
       "      <td>[]</td>\n",
       "    </tr>\n",
       "    <tr>\n",
       "      <th>3</th>\n",
       "      <td>00000663ed1ff0c4e0132b9b9ac53f6e.jpg</td>\n",
       "      <td>12903854 2 12909064 7 12914275 10 12919485 15 ...</td>\n",
       "      <td>5214</td>\n",
       "      <td>3676</td>\n",
       "      <td>31</td>\n",
       "      <td>31</td>\n",
       "      <td>[]</td>\n",
       "    </tr>\n",
       "    <tr>\n",
       "      <th>4</th>\n",
       "      <td>00000663ed1ff0c4e0132b9b9ac53f6e.jpg</td>\n",
       "      <td>10837337 5 10842542 14 10847746 24 10852951 33...</td>\n",
       "      <td>5214</td>\n",
       "      <td>3676</td>\n",
       "      <td>32</td>\n",
       "      <td>32</td>\n",
       "      <td>[]</td>\n",
       "    </tr>\n",
       "  </tbody>\n",
       "</table>\n",
       "</div>"
      ],
      "text/plain": [
       "                                ImageId  ... AttributeId\n",
       "0  00000663ed1ff0c4e0132b9b9ac53f6e.jpg  ...          []\n",
       "1  00000663ed1ff0c4e0132b9b9ac53f6e.jpg  ...          []\n",
       "2  00000663ed1ff0c4e0132b9b9ac53f6e.jpg  ...          []\n",
       "3  00000663ed1ff0c4e0132b9b9ac53f6e.jpg  ...          []\n",
       "4  00000663ed1ff0c4e0132b9b9ac53f6e.jpg  ...          []\n",
       "\n",
       "[5 rows x 7 columns]"
      ]
     },
     "execution_count": 17,
     "metadata": {
      "tags": []
     },
     "output_type": "execute_result"
    }
   ],
   "source": [
    "# segment_df['CategoryId'] = segment_df['Class']\n",
    "segment_df['CategoryId'] = segment_df['ClassId'].str.split('_').str[0]\n",
    "segment_df['AttributeId'] = segment_df['ClassId'].str.split('_').str[1:]\n",
    "\n",
    "print(\"Total segments: \", len(segment_df))\n",
    "\n",
    "print('max_id:',max(list(map(lambda x:int(x),segment_df['CategoryId'] ))))\n",
    "segment_df.head()"
   ]
  },
  {
   "cell_type": "code",
   "execution_count": 18,
   "metadata": {
    "id": "vS3YNKvBXgff"
   },
   "outputs": [],
   "source": [
    "def show_img(IMG_FILE):\n",
    "    I = cv2.imread(\"/content/drive/My Drive/myntra /Train large/\" + IMG_FILE, cv2.IMREAD_COLOR)\n",
    "    I = cv2.cvtColor(I, cv2.COLOR_BGR2RGB)\n",
    "    I = cv2.resize(I, (IMAGE_SIZE, IMAGE_SIZE), interpolation=cv2.INTER_AREA)  \n",
    "    plt.imshow(I) \n",
    "    \n",
    "def complete_make_mask(data,IMG_FILE):\n",
    "    mask_list, cat_list = [], []\n",
    "    df = data[data.ImageId == IMG_FILE].reset_index(drop = True)\n",
    "    H = df.iloc[0,2]\n",
    "    W = df.iloc[0,3]\n",
    "    \n",
    "    print(\"Correct Category :\", sorted(set((list(df.CategoryId)))))\n",
    "    # 1d mask \n",
    "    \n",
    "    for line in df[['EncodedPixels','CategoryId']].iterrows():\n",
    "        # 1d mask \n",
    "        mask = np.full(H*W,dtype='int',fill_value = -1)\n",
    "        \n",
    "        EncodedPixels = line[1][0]\n",
    "        Category = line[1][1]\n",
    "        \n",
    "        pixel_loc = list(map(int,EncodedPixels.split(' ')[0::2]))\n",
    "        iter_num =  list(map(int,EncodedPixels.split(' ')[1::2]))\n",
    "        for p,i in zip(pixel_loc,iter_num):\n",
    "            mask[p:(p+i)] = Category\n",
    "        mask = mask.reshape(W,H).T\n",
    "#         print(Category, mask.shape)\n",
    "        mask_list+=[mask]\n",
    "        cat_list+=[Category]\n",
    "    \n",
    "#     print(\"Output :\",sorted(set(list(mask))))\n",
    "#     print('mask:\\n',set(list(mask)))\n",
    "#     mask = mask.reshape(W,H).T\n",
    "    #rle\n",
    "#     return mask\n",
    "    return cat_list, mask_list"
   ]
  },
  {
   "cell_type": "code",
   "execution_count": 19,
   "metadata": {
    "colab": {
     "base_uri": "https://localhost:8080/",
     "height": 1000
    },
    "id": "wTN7QpsRXjJe",
    "outputId": "1ff99a44-823d-4675-b074-bcad78e50236"
   },
   "outputs": [
    {
     "name": "stdout",
     "output_type": "stream",
     "text": [
      "Correct Category : ['29', '31', '9']\n",
      "Correct Category : ['1', '18', '23', '24', '28', '31', '33', '35', '4', '6']\n",
      "Correct Category : ['10', '23', '31', '33']\n"
     ]
    },
    {
     "data": {
      "image/png": "[encoded data removed]",
      "text/plain": [
       "<Figure size 1080x1080 with 5 Axes>"
      ]
     },
     "metadata": {
      "needs_background": "light",
      "tags": []
     },
     "output_type": "display_data"
    },
    {
     "data": {
      "image/png": "[encoded data removed]",
      "text/plain": [
       "<Figure size 1080x1080 with 14 Axes>"
      ]
     },
     "metadata": {
      "needs_background": "light",
      "tags": []
     },
     "output_type": "display_data"
    },
    {
     "data": {
      "image/png": "[encoded data removed]",
      "text/plain": [
       "<Figure size 1080x1080 with 7 Axes>"
      ]
     },
     "metadata": {
      "needs_background": "light",
      "tags": []
     },
     "output_type": "display_data"
    }
   ],
   "source": [
    "img_list = os.listdir(IMAGE_DIR)\n",
    "for k in img_list[:3]:\n",
    "    cat_list1, mask_list1 = complete_make_mask(segment_df, k)\n",
    "    plt.figure(figsize=[15,15])\n",
    "    plt.subplot(3,5,1)\n",
    "    show_img(k)\n",
    "    plt.title('Input Image')\n",
    "    i=1\n",
    "    for mask, cat in zip(mask_list1, cat_list1):\n",
    "        mask = cv2.resize(mask, (IMAGE_SIZE, IMAGE_SIZE), interpolation=cv2.INTER_NEAREST)\n",
    "        plt.subplot(3,5,i+1)\n",
    "        i+=1\n",
    "        plt.imshow(mask,cmap='jet')\n",
    "        plt.title(label_names[int(cat)])\n",
    "    plt.subplots_adjust(wspace=0.4, hspace=-0.65)"
   ]
  },
  {
   "cell_type": "code",
   "execution_count": 20,
   "metadata": {
    "colab": {
     "base_uri": "https://localhost:8080/"
    },
    "id": "rDWHCcgAXlRh",
    "outputId": "2e39922d-a6ed-45f1-fbed-75cc24ab3fda"
   },
   "outputs": [
    {
     "data": {
      "text/plain": [
       "11499"
      ]
     },
     "execution_count": 20,
     "metadata": {
      "tags": []
     },
     "output_type": "execute_result"
    }
   ],
   "source": [
    "seg_att_df = segment_df[[len(x)>0 for x in segment_df['AttributeId']]].reset_index(drop=['index'])\n",
    "len(seg_att_df)"
   ]
  },
  {
   "cell_type": "code",
   "execution_count": 21,
   "metadata": {
    "colab": {
     "base_uri": "https://localhost:8080/",
     "height": 669
    },
    "id": "52LcDsrnXnYL",
    "outputId": "bf79bc12-c4f3-4a7d-ae36-0f20985a56f5"
   },
   "outputs": [
    {
     "data": {
      "text/html": [
       "<div>\n",
       "<style scoped>\n",
       "    .dataframe tbody tr th:only-of-type {\n",
       "        vertical-align: middle;\n",
       "    }\n",
       "\n",
       "    .dataframe tbody tr th {\n",
       "        vertical-align: top;\n",
       "    }\n",
       "\n",
       "    .dataframe thead th {\n",
       "        text-align: right;\n",
       "    }\n",
       "</style>\n",
       "<table border=\"1\" class=\"dataframe\">\n",
       "  <thead>\n",
       "    <tr style=\"text-align: right;\">\n",
       "      <th></th>\n",
       "      <th>ImageId</th>\n",
       "      <th>EncodedPixels</th>\n",
       "      <th>Height</th>\n",
       "      <th>Width</th>\n",
       "      <th>ClassId</th>\n",
       "      <th>CategoryId</th>\n",
       "      <th>AttributeId</th>\n",
       "    </tr>\n",
       "  </thead>\n",
       "  <tbody>\n",
       "    <tr>\n",
       "      <th>30</th>\n",
       "      <td>0091ae902cb738e4ca06038c2654fa00.jpg</td>\n",
       "      <td>546345 59 548136 69 549926 80 551717 91 553507...</td>\n",
       "      <td>1800</td>\n",
       "      <td>1200</td>\n",
       "      <td>4_0_14_20_42_59_65_91</td>\n",
       "      <td>4</td>\n",
       "      <td>[0, 14, 20, 42, 59, 65, 91]</td>\n",
       "    </tr>\n",
       "    <tr>\n",
       "      <th>31</th>\n",
       "      <td>0091ae902cb738e4ca06038c2654fa00.jpg</td>\n",
       "      <td>751673 39 753408 116 755160 176 756929 219 758...</td>\n",
       "      <td>1800</td>\n",
       "      <td>1200</td>\n",
       "      <td>9_9_20_41_59_61_91</td>\n",
       "      <td>9</td>\n",
       "      <td>[9, 20, 41, 59, 61, 91]</td>\n",
       "    </tr>\n",
       "    <tr>\n",
       "      <th>32</th>\n",
       "      <td>0091ae902cb738e4ca06038c2654fa00.jpg</td>\n",
       "      <td>857249 10 859049 31 860849 42 862649 43 864449...</td>\n",
       "      <td>1800</td>\n",
       "      <td>1200</td>\n",
       "      <td>1_0_20_40_60_61</td>\n",
       "      <td>1</td>\n",
       "      <td>[0, 20, 40, 60, 61]</td>\n",
       "    </tr>\n",
       "    <tr>\n",
       "      <th>33</th>\n",
       "      <td>0091ae902cb738e4ca06038c2654fa00.jpg</td>\n",
       "      <td>897828 33 899595 69 901388 80 903182 90 904975...</td>\n",
       "      <td>1800</td>\n",
       "      <td>1200</td>\n",
       "      <td>6_8_15_20_31_41_46_61</td>\n",
       "      <td>6</td>\n",
       "      <td>[8, 15, 20, 31, 41, 46, 61]</td>\n",
       "    </tr>\n",
       "    <tr>\n",
       "      <th>34</th>\n",
       "      <td>009447b79fce7da1ee19a54401517cde.jpg</td>\n",
       "      <td>25048107 6 25053398 19 25058690 32 25063981 45...</td>\n",
       "      <td>5304</td>\n",
       "      <td>7952</td>\n",
       "      <td>1_0_20_40_60_61_88</td>\n",
       "      <td>1</td>\n",
       "      <td>[0, 20, 40, 60, 61, 88]</td>\n",
       "    </tr>\n",
       "    <tr>\n",
       "      <th>35</th>\n",
       "      <td>009447b79fce7da1ee19a54401517cde.jpg</td>\n",
       "      <td>23488547 6 23493844 17 23499140 29 23504436 40...</td>\n",
       "      <td>5304</td>\n",
       "      <td>7952</td>\n",
       "      <td>5_0_14_20_41_46_61_91</td>\n",
       "      <td>5</td>\n",
       "      <td>[0, 14, 20, 41, 46, 61, 91]</td>\n",
       "    </tr>\n",
       "    <tr>\n",
       "      <th>36</th>\n",
       "      <td>009447b79fce7da1ee19a54401517cde.jpg</td>\n",
       "      <td>23802163 9 23807451 27 23812746 37 23818049 40...</td>\n",
       "      <td>5304</td>\n",
       "      <td>7952</td>\n",
       "      <td>7_2_15_20_41_46_61_88</td>\n",
       "      <td>7</td>\n",
       "      <td>[2, 15, 20, 41, 46, 61, 88]</td>\n",
       "    </tr>\n",
       "    <tr>\n",
       "      <th>37</th>\n",
       "      <td>009d3fad34c4184fc93f3db4427bbf7a.jpg</td>\n",
       "      <td>5177175 57 5182030 171 5186934 236 5191885 253...</td>\n",
       "      <td>4962</td>\n",
       "      <td>3308</td>\n",
       "      <td>10_3_10_20_33_60_61_91</td>\n",
       "      <td>10</td>\n",
       "      <td>[3, 10, 20, 33, 60, 61, 91]</td>\n",
       "    </tr>\n",
       "    <tr>\n",
       "      <th>38</th>\n",
       "      <td>009f88701b43c02d0e9ca6464df6adba.jpg</td>\n",
       "      <td>6093938 1 6097000 3 6100061 6 6103122 9 610618...</td>\n",
       "      <td>3063</td>\n",
       "      <td>4621</td>\n",
       "      <td>10_3_14_20_24_52_69_87</td>\n",
       "      <td>10</td>\n",
       "      <td>[3, 14, 20, 24, 52, 69, 87]</td>\n",
       "    </tr>\n",
       "    <tr>\n",
       "      <th>39</th>\n",
       "      <td>00c613d7ce33173d59b8661e2978049d.jpg</td>\n",
       "      <td>515923 3 517511 10 519100 16 520688 22 522276 ...</td>\n",
       "      <td>1594</td>\n",
       "      <td>1000</td>\n",
       "      <td>10_6_14_20_32_61_87</td>\n",
       "      <td>10</td>\n",
       "      <td>[6, 14, 20, 32, 61, 87]</td>\n",
       "    </tr>\n",
       "    <tr>\n",
       "      <th>40</th>\n",
       "      <td>00d8ff3896fb7afe8d8bcef057d0820a.jpg</td>\n",
       "      <td>53359 3 54352 8 55347 12 56347 10 57346 9 5834...</td>\n",
       "      <td>1000</td>\n",
       "      <td>667</td>\n",
       "      <td>1_1_20_40_49_61_91</td>\n",
       "      <td>1</td>\n",
       "      <td>[1, 20, 40, 49, 61, 91]</td>\n",
       "    </tr>\n",
       "    <tr>\n",
       "      <th>41</th>\n",
       "      <td>00f9f1089fa2061557eda585e6244d8f.jpg</td>\n",
       "      <td>237177 1 238200 4 239222 7 240245 10 241268 12...</td>\n",
       "      <td>1023</td>\n",
       "      <td>682</td>\n",
       "      <td>10_3_14_20_32_60_69_86</td>\n",
       "      <td>10</td>\n",
       "      <td>[3, 14, 20, 32, 60, 69, 86]</td>\n",
       "    </tr>\n",
       "    <tr>\n",
       "      <th>42</th>\n",
       "      <td>00f9f1089fa2061557eda585e6244d8f.jpg</td>\n",
       "      <td>146961 19 147954 58 148941 103 149917 159 1508...</td>\n",
       "      <td>1023</td>\n",
       "      <td>682</td>\n",
       "      <td>4_0_14_20_40_60_61_88</td>\n",
       "      <td>4</td>\n",
       "      <td>[0, 14, 20, 40, 60, 61, 88]</td>\n",
       "    </tr>\n",
       "    <tr>\n",
       "      <th>43</th>\n",
       "      <td>00fc1cb8809762f07f6237c96e42ac31.jpg</td>\n",
       "      <td>158748 12 159736 36 160724 60 161712 85 162700...</td>\n",
       "      <td>1000</td>\n",
       "      <td>667</td>\n",
       "      <td>6_8_14_20_36_42_52_53_61_87</td>\n",
       "      <td>6</td>\n",
       "      <td>[8, 14, 20, 36, 42, 52, 53, 61, 87]</td>\n",
       "    </tr>\n",
       "    <tr>\n",
       "      <th>44</th>\n",
       "      <td>00fc1cb8809762f07f6237c96e42ac31.jpg</td>\n",
       "      <td>231307 4 232303 11 233301 15 234296 21 235287 ...</td>\n",
       "      <td>1000</td>\n",
       "      <td>667</td>\n",
       "      <td>1_0_20_40_60_61_88</td>\n",
       "      <td>1</td>\n",
       "      <td>[0, 20, 40, 60, 61, 88]</td>\n",
       "    </tr>\n",
       "    <tr>\n",
       "      <th>45</th>\n",
       "      <td>011d12b27da7106a2740e325ae1d0dae.jpg</td>\n",
       "      <td>6293418 3 6297055 8 6300691 15 6304327 21 6307...</td>\n",
       "      <td>3639</td>\n",
       "      <td>5233</td>\n",
       "      <td>0_1_20_41_60_69_88</td>\n",
       "      <td>0</td>\n",
       "      <td>[1, 20, 41, 60, 69, 88]</td>\n",
       "    </tr>\n",
       "    <tr>\n",
       "      <th>46</th>\n",
       "      <td>013365f6a05a669630d7a987289cdcb7.jpg</td>\n",
       "      <td>480436 14 481925 103 483485 122 485045 140 486...</td>\n",
       "      <td>1578</td>\n",
       "      <td>1000</td>\n",
       "      <td>10_3_14_20_33_60_69_88</td>\n",
       "      <td>10</td>\n",
       "      <td>[3, 14, 20, 33, 60, 69, 88]</td>\n",
       "    </tr>\n",
       "    <tr>\n",
       "      <th>47</th>\n",
       "      <td>01453b8281cbe6812b0dad94d98fbce7.jpg</td>\n",
       "      <td>1679836 5 1682641 16 1685446 27 1688252 37 169...</td>\n",
       "      <td>2816</td>\n",
       "      <td>1880</td>\n",
       "      <td>4_0_10_20_41_60_72_88</td>\n",
       "      <td>4</td>\n",
       "      <td>[0, 10, 20, 41, 60, 72, 88]</td>\n",
       "    </tr>\n",
       "    <tr>\n",
       "      <th>48</th>\n",
       "      <td>01453b8281cbe6812b0dad94d98fbce7.jpg</td>\n",
       "      <td>520482 3 523296 8 526110 13 528924 18 531738 2...</td>\n",
       "      <td>2816</td>\n",
       "      <td>1880</td>\n",
       "      <td>6_8_15_20_30_42_60_72</td>\n",
       "      <td>6</td>\n",
       "      <td>[8, 15, 20, 30, 42, 60, 72]</td>\n",
       "    </tr>\n",
       "    <tr>\n",
       "      <th>49</th>\n",
       "      <td>0163795f5a1cb5b5adbd166a084e457a.jpg</td>\n",
       "      <td>144679 1 147093 4 149508 6 151922 9 154337 10 ...</td>\n",
       "      <td>2416</td>\n",
       "      <td>1500</td>\n",
       "      <td>10_6_14_20_24_53_69_87</td>\n",
       "      <td>10</td>\n",
       "      <td>[6, 14, 20, 24, 53, 69, 87]</td>\n",
       "    </tr>\n",
       "  </tbody>\n",
       "</table>\n",
       "</div>"
      ],
      "text/plain": [
       "                                 ImageId  ...                          AttributeId\n",
       "30  0091ae902cb738e4ca06038c2654fa00.jpg  ...          [0, 14, 20, 42, 59, 65, 91]\n",
       "31  0091ae902cb738e4ca06038c2654fa00.jpg  ...              [9, 20, 41, 59, 61, 91]\n",
       "32  0091ae902cb738e4ca06038c2654fa00.jpg  ...                  [0, 20, 40, 60, 61]\n",
       "33  0091ae902cb738e4ca06038c2654fa00.jpg  ...          [8, 15, 20, 31, 41, 46, 61]\n",
       "34  009447b79fce7da1ee19a54401517cde.jpg  ...              [0, 20, 40, 60, 61, 88]\n",
       "35  009447b79fce7da1ee19a54401517cde.jpg  ...          [0, 14, 20, 41, 46, 61, 91]\n",
       "36  009447b79fce7da1ee19a54401517cde.jpg  ...          [2, 15, 20, 41, 46, 61, 88]\n",
       "37  009d3fad34c4184fc93f3db4427bbf7a.jpg  ...          [3, 10, 20, 33, 60, 61, 91]\n",
       "38  009f88701b43c02d0e9ca6464df6adba.jpg  ...          [3, 14, 20, 24, 52, 69, 87]\n",
       "39  00c613d7ce33173d59b8661e2978049d.jpg  ...              [6, 14, 20, 32, 61, 87]\n",
       "40  00d8ff3896fb7afe8d8bcef057d0820a.jpg  ...              [1, 20, 40, 49, 61, 91]\n",
       "41  00f9f1089fa2061557eda585e6244d8f.jpg  ...          [3, 14, 20, 32, 60, 69, 86]\n",
       "42  00f9f1089fa2061557eda585e6244d8f.jpg  ...          [0, 14, 20, 40, 60, 61, 88]\n",
       "43  00fc1cb8809762f07f6237c96e42ac31.jpg  ...  [8, 14, 20, 36, 42, 52, 53, 61, 87]\n",
       "44  00fc1cb8809762f07f6237c96e42ac31.jpg  ...              [0, 20, 40, 60, 61, 88]\n",
       "45  011d12b27da7106a2740e325ae1d0dae.jpg  ...              [1, 20, 41, 60, 69, 88]\n",
       "46  013365f6a05a669630d7a987289cdcb7.jpg  ...          [3, 14, 20, 33, 60, 69, 88]\n",
       "47  01453b8281cbe6812b0dad94d98fbce7.jpg  ...          [0, 10, 20, 41, 60, 72, 88]\n",
       "48  01453b8281cbe6812b0dad94d98fbce7.jpg  ...          [8, 15, 20, 30, 42, 60, 72]\n",
       "49  0163795f5a1cb5b5adbd166a084e457a.jpg  ...          [6, 14, 20, 24, 53, 69, 87]\n",
       "\n",
       "[20 rows x 7 columns]"
      ]
     },
     "execution_count": 21,
     "metadata": {
      "tags": []
     },
     "output_type": "execute_result"
    }
   ],
   "source": [
    "seg_att_df.iloc[30:50]"
   ]
  },
  {
   "cell_type": "code",
   "execution_count": 22,
   "metadata": {
    "colab": {
     "base_uri": "https://localhost:8080/",
     "height": 252
    },
    "id": "s6yCV2oaXtYo",
    "outputId": "a0cad123-afa9-466b-f819-f83da85ce8ea"
   },
   "outputs": [
    {
     "name": "stdout",
     "output_type": "stream",
     "text": [
      "Total images:  45195\n"
     ]
    },
    {
     "data": {
      "text/html": [
       "<div>\n",
       "<style scoped>\n",
       "    .dataframe tbody tr th:only-of-type {\n",
       "        vertical-align: middle;\n",
       "    }\n",
       "\n",
       "    .dataframe tbody tr th {\n",
       "        vertical-align: top;\n",
       "    }\n",
       "\n",
       "    .dataframe thead th {\n",
       "        text-align: right;\n",
       "    }\n",
       "</style>\n",
       "<table border=\"1\" class=\"dataframe\">\n",
       "  <thead>\n",
       "    <tr style=\"text-align: right;\">\n",
       "      <th></th>\n",
       "      <th>EncodedPixels</th>\n",
       "      <th>CategoryId</th>\n",
       "      <th>Height</th>\n",
       "      <th>Width</th>\n",
       "    </tr>\n",
       "    <tr>\n",
       "      <th>ImageId</th>\n",
       "      <th></th>\n",
       "      <th></th>\n",
       "      <th></th>\n",
       "      <th></th>\n",
       "    </tr>\n",
       "  </thead>\n",
       "  <tbody>\n",
       "    <tr>\n",
       "      <th>00000663ed1ff0c4e0132b9b9ac53f6e.jpg</th>\n",
       "      <td>[6068157 7 6073371 20 6078584 34 6083797 48 60...</td>\n",
       "      <td>[6, 0, 28, 31, 32, 32, 31, 29, 4]</td>\n",
       "      <td>5214</td>\n",
       "      <td>3676</td>\n",
       "    </tr>\n",
       "    <tr>\n",
       "      <th>0000fe7c9191fba733c8a69cfaf962b7.jpg</th>\n",
       "      <td>[2201176 1 2203623 3 2206071 5 2208518 8 22109...</td>\n",
       "      <td>[33, 1]</td>\n",
       "      <td>2448</td>\n",
       "      <td>2448</td>\n",
       "    </tr>\n",
       "    <tr>\n",
       "      <th>0002ec21ddb8477e98b2cbb87ea2e269.jpg</th>\n",
       "      <td>[2673735 2 2676734 8 2679734 13 2682733 19 268...</td>\n",
       "      <td>[33, 10, 23, 23]</td>\n",
       "      <td>3000</td>\n",
       "      <td>1997</td>\n",
       "    </tr>\n",
       "    <tr>\n",
       "      <th>0002f5a0ebc162ecfb73e2c91e3b8f62.jpg</th>\n",
       "      <td>[435 132 1002 132 1569 132 2136 132 2703 132 3...</td>\n",
       "      <td>[10, 33, 15]</td>\n",
       "      <td>567</td>\n",
       "      <td>400</td>\n",
       "    </tr>\n",
       "    <tr>\n",
       "      <th>0004467156e47b0eb6de4aa6479cbd15.jpg</th>\n",
       "      <td>[132663 8 133396 25 134130 41 134868 53 135611...</td>\n",
       "      <td>[10, 33, 31, 31, 15]</td>\n",
       "      <td>750</td>\n",
       "      <td>500</td>\n",
       "    </tr>\n",
       "  </tbody>\n",
       "</table>\n",
       "</div>"
      ],
      "text/plain": [
       "                                                                          EncodedPixels  ... Width\n",
       "ImageId                                                                                  ...      \n",
       "00000663ed1ff0c4e0132b9b9ac53f6e.jpg  [6068157 7 6073371 20 6078584 34 6083797 48 60...  ...  3676\n",
       "0000fe7c9191fba733c8a69cfaf962b7.jpg  [2201176 1 2203623 3 2206071 5 2208518 8 22109...  ...  2448\n",
       "0002ec21ddb8477e98b2cbb87ea2e269.jpg  [2673735 2 2676734 8 2679734 13 2682733 19 268...  ...  1997\n",
       "0002f5a0ebc162ecfb73e2c91e3b8f62.jpg  [435 132 1002 132 1569 132 2136 132 2703 132 3...  ...   400\n",
       "0004467156e47b0eb6de4aa6479cbd15.jpg  [132663 8 133396 25 134130 41 134868 53 135611...  ...   500\n",
       "\n",
       "[5 rows x 4 columns]"
      ]
     },
     "execution_count": 22,
     "metadata": {
      "tags": []
     },
     "output_type": "execute_result"
    }
   ],
   "source": [
    "image_df = segment_df.groupby('ImageId')['EncodedPixels', 'CategoryId'].agg(lambda x: list(x))\n",
    "size_df = segment_df.groupby('ImageId')['Height', 'Width'].mean()\n",
    "image_df = image_df.join(size_df, on='ImageId')\n",
    "\n",
    "# image_df = image_df[:10]\n",
    "# image_df = image_df.iloc[:10]\n",
    "print(\"Total images: \", len(image_df))\n",
    "image_df.head()"
   ]
  },
  {
   "cell_type": "code",
   "execution_count": 23,
   "metadata": {
    "id": "Svw95d8tcAiY"
   },
   "outputs": [],
   "source": [
    "def resize_image(image_path):\n",
    "  print(image_path)\n",
    "  img = cv2.imread(image_path)\n",
    "  img = cv2.cvtColor(img, cv2.COLOR_BGR2RGB)\n",
    "  img = cv2.resize(img, (IMAGE_SIZE, IMAGE_SIZE), interpolation=cv2.INTER_AREA)  \n",
    "  return img"
   ]
  },
  {
   "cell_type": "code",
   "execution_count": 24,
   "metadata": {
    "id": "Z2KdL0YPXvr7"
   },
   "outputs": [],
   "source": [
    "class FashionDataset(utils.Dataset):\n",
    "\n",
    "    def __init__(self, df):\n",
    "        super().__init__(self)\n",
    "        \n",
    "        # Add classes\n",
    "        for i, name in enumerate(label_names):\n",
    "            self.add_class(\"fashion\", i+1, name)\n",
    "        \n",
    "        # Add images \n",
    "        for i, row in df.iterrows():\n",
    "            self.add_image(\"fashion\", \n",
    "                           image_id=row.name, \n",
    "                           path=str(DATA_DIR/'Train large'/row.name), \n",
    "                           labels=row['CategoryId'],\n",
    "                           annotations=row['EncodedPixels'], \n",
    "                           height=row['Height'], width=row['Width'])\n",
    "\n",
    "    def image_reference(self, image_id):\n",
    "        info = self.image_info[image_id]\n",
    "        return info['path'], [label_names[int(x)] for x in info['labels']]\n",
    "    \n",
    "    def load_image(self, image_id):\n",
    "        return resize_image(self.image_info[image_id]['path'])\n",
    "\n",
    "    def load_mask(self, image_id):\n",
    "        info = self.image_info[image_id]\n",
    "                \n",
    "        mask = np.zeros((IMAGE_SIZE, IMAGE_SIZE, len(info['annotations'])), dtype=np.uint8)\n",
    "        labels = []\n",
    "        \n",
    "        for m, (annotation, label) in enumerate(zip(info['annotations'], info['labels'])):\n",
    "            sub_mask = np.full(info['height']*info['width'], 0, dtype=np.uint8)\n",
    "            annotation = [int(x) for x in annotation.split(' ')]\n",
    "            \n",
    "            for i, start_pixel in enumerate(annotation[::2]):\n",
    "                sub_mask[start_pixel: start_pixel+annotation[2*i+1]] = 1\n",
    "\n",
    "            sub_mask = sub_mask.reshape((info['height'], info['width']), order='F')\n",
    "            sub_mask = cv2.resize(sub_mask, (IMAGE_SIZE, IMAGE_SIZE), interpolation=cv2.INTER_NEAREST)\n",
    "            \n",
    "            mask[:, :, m] = sub_mask\n",
    "            labels.append(int(label)+1)\n",
    "            \n",
    "        return mask, np.array(labels)"
   ]
  },
  {
   "cell_type": "code",
   "execution_count": 25,
   "metadata": {
    "colab": {
     "base_uri": "https://localhost:8080/",
     "height": 289
    },
    "id": "RGtpKbmtX5u_",
    "outputId": "b73fb5e7-db78-4ed5-8b3e-819b1bf64d97"
   },
   "outputs": [
    {
     "name": "stdout",
     "output_type": "stream",
     "text": [
      "/content/drive/My Drive/myntra /Train large/0004467156e47b0eb6de4aa6479cbd15.jpg\n",
      "mask_shape: (512, 512, 5)\n",
      "img_shape: (512, 512, 3)\n",
      "[11 34 32 32 16]\n",
      "['BG', 'shirt', 'top', 'sweater', 'cardigan', 'jacket', 'vest', 'pants', 'shorts', 'skirt', 'coat', 'dress', 'jumpsuit', 'cape', 'glasses', 'hat', 'headband', 'tie', 'glove', 'watch', 'belt', 'leg warmer', 'tights', 'sock', 'shoe', 'bag', 'scarf', 'umbrella', 'hood', 'collar', 'lapel', 'epaulette', 'sleeve', 'pocket', 'neckline', 'buckle', 'zipper', 'applique', 'bead', 'bow', 'flower', 'fringe', 'ribbon', 'rivet', 'ruffle', 'sequin', 'tassel']\n",
      "47\n"
     ]
    },
    {
     "data": {
      "image/png": "[encoded data removed]",
      "text/plain": [
       "<Figure size 1008x360 with 5 Axes>"
      ]
     },
     "metadata": {
      "needs_background": "light",
      "tags": []
     },
     "output_type": "display_data"
    }
   ],
   "source": [
    "dataset = FashionDataset(image_df)\n",
    "dataset.prepare()\n",
    "\n",
    "flag = True;\n",
    "i = 0;\n",
    "while (flag):\n",
    "#     image_id = random.choice(dataset.image_ids)\n",
    "    image_id = dataset.image_ids[i]\n",
    "    loc = dataset.image_reference(image_id)[0]\n",
    "\n",
    "    if not (os.path.isfile(loc)):\n",
    "      i+=1;\n",
    "      continue\n",
    "    flag = False\n",
    "    image = dataset.load_image(image_id)\n",
    "    mask, class_ids = dataset.load_mask(image_id)\n",
    "    print('mask_shape:',mask.shape)\n",
    "    print('img_shape:',image.shape)\n",
    "    print(class_ids)\n",
    "    print(dataset.class_names)\n",
    "    print(len(dataset.class_names))\n",
    "#     plt.figure()\n",
    "#     plt.imshow(image)\n",
    "#     visualize.display_top_masks(image, mask, class_ids, dataset.class_names, limit=4)\n",
    "    visualize.display_top_masks(image, mask, class_ids, dataset.class_names, limit=4)"
   ]
  },
  {
   "cell_type": "code",
   "execution_count": 26,
   "metadata": {
    "id": "4G9YNMLDYGKa"
   },
   "outputs": [],
   "source": [
    "# This code partially supports k-fold training, \n",
    "# you can specify the fold to train and the total number of folds here\n",
    "FOLD = 0\n",
    "N_FOLDS = 5\n",
    "\n",
    "kf = KFold(n_splits=N_FOLDS, random_state=42, shuffle=True)\n",
    "splits = kf.split(image_df) # ideally, this should be multilabel stratification\n",
    "\n",
    "def get_fold():    \n",
    "    for i, (train_index, valid_index) in enumerate(splits):\n",
    "        if i == FOLD:\n",
    "            return image_df.iloc[train_index], image_df.iloc[valid_index]\n",
    "        \n",
    "train_df, valid_df = get_fold()\n",
    "\n",
    "train_dataset = FashionDataset(train_df)\n",
    "train_dataset.prepare()\n",
    "\n",
    "valid_dataset = FashionDataset(valid_df)\n",
    "valid_dataset.prepare()"
   ]
  },
  {
   "cell_type": "code",
   "execution_count": 27,
   "metadata": {
    "colab": {
     "base_uri": "https://localhost:8080/",
     "height": 865
    },
    "id": "IeraHRGzYIHw",
    "outputId": "8308afe8-2095-4ceb-a3fe-20457d8ab469"
   },
   "outputs": [
    {
     "name": "stdout",
     "output_type": "stream",
     "text": [
      "Total train images:  36156\n",
      "Total train segments:  264949\n"
     ]
    },
    {
     "data": {
      "image/png": "[encoded data removed]",
      "text/plain": [
       "<Figure size 864x216 with 1 Axes>"
      ]
     },
     "metadata": {
      "needs_background": "light",
      "tags": []
     },
     "output_type": "display_data"
    },
    {
     "name": "stdout",
     "output_type": "stream",
     "text": [
      "Total validation images:  9039\n",
      "Total validation segments:  66264\n"
     ]
    },
    {
     "data": {
      "image/png": "[encoded data removed]",
      "text/plain": [
       "<Figure size 864x216 with 1 Axes>"
      ]
     },
     "metadata": {
      "needs_background": "light",
      "tags": []
     },
     "output_type": "display_data"
    }
   ],
   "source": [
    "train_segments = np.concatenate(train_df['CategoryId'].values).astype(int)\n",
    "print(\"Total train images: \", len(train_df))\n",
    "print(\"Total train segments: \", len(train_segments))\n",
    "\n",
    "plt.figure(figsize=(12, 3))\n",
    "values, counts = np.unique(train_segments, return_counts=True)\n",
    "plt.bar(values, counts)\n",
    "plt.xticks(values, label_names, rotation='vertical')\n",
    "plt.show()\n",
    "\n",
    "valid_segments = np.concatenate(valid_df['CategoryId'].values).astype(int)\n",
    "print(\"Total validation images: \", len(valid_df))\n",
    "print(\"Total validation segments: \", len(valid_segments))\n",
    "\n",
    "plt.figure(figsize=(12, 3))\n",
    "values, counts = np.unique(valid_segments, return_counts=True)\n",
    "plt.bar(values, counts)\n",
    "plt.xticks(values, label_names, rotation='vertical')\n",
    "plt.show()"
   ]
  },
  {
   "cell_type": "markdown",
   "metadata": {
    "id": "FoWulBGzYW1-"
   },
   "source": [
    "**Building attribute detection model**"
   ]
  },
  {
   "cell_type": "code",
   "execution_count": 28,
   "metadata": {
    "id": "UPWpnoY0YaOG"
   },
   "outputs": [],
   "source": [
    "def make_mask(data):\n",
    "    df = data.reset_index(drop = True)\n",
    "    H = df.iloc[0,2]\n",
    "    W = df.iloc[0,3]\n",
    "    \n",
    "#     print(\"Correct Category :\", int(df.CategoryId))\n",
    "    # 1d mask \n",
    "    mask = np.full(H*W,dtype='int',fill_value = -1)\n",
    "    \n",
    "    for line in df[['EncodedPixels','CategoryId']].iterrows():\n",
    "        # 1d mask \n",
    "#         mask = np.full(H*W,dtype='int',fill_value = -1)\n",
    "        \n",
    "        EncodedPixels = line[1][0]\n",
    "        Category = line[1][1]\n",
    "        print(Category)\n",
    "        pixel_loc = list(map(int,EncodedPixels.split(' ')[0::2]))\n",
    "        iter_num =  list(map(int,EncodedPixels.split(' ')[1::2]))\n",
    "        for p,i in zip(pixel_loc,iter_num):\n",
    "            mask[p:(p+i)] = Category\n",
    "        mask = mask.reshape(W,H).T\n",
    "    return mask"
   ]
  },
  {
   "cell_type": "code",
   "execution_count": 29,
   "metadata": {
    "id": "oZRCljLzYc-u"
   },
   "outputs": [],
   "source": [
    "IMAGE_SIZE2 = 299"
   ]
  },
  {
   "cell_type": "code",
   "execution_count": 30,
   "metadata": {
    "colab": {
     "base_uri": "https://localhost:8080/"
    },
    "id": "v0lHUPGQYecC",
    "outputId": "1151ffcf-f9e4-48b2-b7df-43a6b0e2d0f5"
   },
   "outputs": [
    {
     "name": "stdout",
     "output_type": "stream",
     "text": [
      "10\n",
      "3\n",
      "10\n",
      "4\n",
      "6\n",
      "4\n",
      "10\n",
      "10\n",
      "1\n",
      "7\n",
      "1\n",
      "8\n",
      "8\n",
      "4\n",
      "1\n",
      "8\n",
      "6\n",
      "1\n",
      "4\n",
      "10\n",
      "10\n",
      "1\n",
      "6\n",
      "9\n",
      "10\n",
      "1\n",
      "4\n",
      "6\n",
      "10\n",
      "9\n",
      "4\n",
      "9\n",
      "1\n",
      "6\n",
      "1\n",
      "5\n",
      "7\n",
      "10\n",
      "10\n",
      "10\n",
      "1\n",
      "10\n",
      "4\n",
      "6\n",
      "1\n",
      "0\n",
      "10\n",
      "4\n",
      "6\n",
      "10\n",
      "10\n",
      "10\n",
      "8\n",
      "1\n",
      "10\n",
      "10\n",
      "1\n",
      "4\n",
      "6\n",
      "1\n",
      "6\n",
      "4\n",
      "10\n",
      "1\n",
      "1\n",
      "4\n",
      "6\n",
      "10\n",
      "10\n",
      "10\n",
      "0\n",
      "10\n",
      "1\n",
      "6\n",
      "1\n",
      "6\n",
      "1\n",
      "7\n",
      "10\n",
      "1\n",
      "6\n",
      "8\n",
      "1\n",
      "10\n",
      "1\n",
      "7\n",
      "10\n",
      "1\n",
      "4\n",
      "6\n",
      "10\n",
      "9\n",
      "10\n",
      "6\n",
      "10\n",
      "10\n",
      "7\n",
      "1\n",
      "10\n",
      "10\n"
     ]
    }
   ],
   "source": [
    "img_id_list, apparel_img_list, cat_list, att_list = [], [], [],[]\n",
    "apparel_id_list, att_id_list = [], []\n",
    "# for i in range(seg_att_df.shape[0]):\n",
    "for i in range(100):\n",
    "#     if i%100==0:\n",
    "#     print(i)\n",
    "    img_id_list+=[seg_att_df['ImageId'][i]]\n",
    "    mask1 = make_mask(seg_att_df.iloc[i:i+1])\n",
    "    mask1 = cv2.resize(mask1, (IMAGE_SIZE2, IMAGE_SIZE2), interpolation=cv2.INTER_NEAREST)  \n",
    "    apparel_img_list+=[mask1]\n",
    "    apparel_id_list+=[int(seg_att_df['CategoryId'][i])]\n",
    "    cat_list+=[label_names[int(seg_att_df['CategoryId'][i])]]\n",
    "    att_id_list+=[seg_att_df['AttributeId'][i]]\n",
    "    att_list+=[[attribute_names[int(x)] for x in seg_att_df['AttributeId'][i]]]\n",
    "    # print(att_list,apparel_id_list )\n",
    "image_att = pd.DataFrame({'ImageId':img_id_list,'ApparelImage':apparel_img_list,'ApparelId': apparel_id_list, \n",
    "                          'ApparelClass':cat_list,'AttributeId':att_id_list,'AttributeType':att_list})"
   ]
  },
  {
   "cell_type": "code",
   "execution_count": 31,
   "metadata": {
    "colab": {
     "base_uri": "https://localhost:8080/",
     "height": 419
    },
    "id": "1hRsIOeTYiGi",
    "outputId": "0b3a5650-0001-4345-f608-3f66efdf051d"
   },
   "outputs": [
    {
     "data": {
      "text/html": [
       "<div>\n",
       "<style scoped>\n",
       "    .dataframe tbody tr th:only-of-type {\n",
       "        vertical-align: middle;\n",
       "    }\n",
       "\n",
       "    .dataframe tbody tr th {\n",
       "        vertical-align: top;\n",
       "    }\n",
       "\n",
       "    .dataframe thead th {\n",
       "        text-align: right;\n",
       "    }\n",
       "</style>\n",
       "<table border=\"1\" class=\"dataframe\">\n",
       "  <thead>\n",
       "    <tr style=\"text-align: right;\">\n",
       "      <th></th>\n",
       "      <th>ImageId</th>\n",
       "      <th>ApparelImage</th>\n",
       "      <th>ApparelId</th>\n",
       "      <th>ApparelClass</th>\n",
       "      <th>AttributeId</th>\n",
       "      <th>AttributeType</th>\n",
       "    </tr>\n",
       "  </thead>\n",
       "  <tbody>\n",
       "    <tr>\n",
       "      <th>0</th>\n",
       "      <td>000aac3870ea7c59ca0333ffa5327323.jpg</td>\n",
       "      <td>[[-1, -1, -1, -1, -1, -1, -1, -1, -1, -1, -1, ...</td>\n",
       "      <td>10</td>\n",
       "      <td>dress</td>\n",
       "      <td>[3, 20, 34, 56, 69, 91]</td>\n",
       "      <td>[mini (length), symmetrical, a-line, cutout, f...</td>\n",
       "    </tr>\n",
       "    <tr>\n",
       "      <th>1</th>\n",
       "      <td>000aac3870ea7c59ca0333ffa5327323.jpg</td>\n",
       "      <td>[[-1, -1, -1, -1, -1, -1, -1, -1, -1, -1, -1, ...</td>\n",
       "      <td>3</td>\n",
       "      <td>cardigan</td>\n",
       "      <td>[1, 10, 20, 41, 60, 61, 91]</td>\n",
       "      <td>[hip (length), single breasted, symmetrical, r...</td>\n",
       "    </tr>\n",
       "    <tr>\n",
       "      <th>2</th>\n",
       "      <td>000b3a87508b0fa185fbd53ecbe2e4c6.jpg</td>\n",
       "      <td>[[-1, -1, -1, -1, -1, -1, -1, -1, -1, -1, -1, ...</td>\n",
       "      <td>10</td>\n",
       "      <td>dress</td>\n",
       "      <td>[5, 19, 33, 59, 61, 66, 88]</td>\n",
       "      <td>[knee (length), asymmetrical, straight, lining...</td>\n",
       "    </tr>\n",
       "    <tr>\n",
       "      <th>3</th>\n",
       "      <td>000e973c99dc090afd7898c93daf0dbc.jpg</td>\n",
       "      <td>[[-1, -1, -1, -1, -1, -1, -1, -1, -1, -1, -1, ...</td>\n",
       "      <td>4</td>\n",
       "      <td>jacket</td>\n",
       "      <td>[0, 20, 41, 60, 72, 88]</td>\n",
       "      <td>[above-the-hip (length), symmetrical, regular ...</td>\n",
       "    </tr>\n",
       "    <tr>\n",
       "      <th>4</th>\n",
       "      <td>000e973c99dc090afd7898c93daf0dbc.jpg</td>\n",
       "      <td>[[-1, -1, -1, -1, -1, -1, -1, -1, -1, -1, -1, ...</td>\n",
       "      <td>6</td>\n",
       "      <td>pants</td>\n",
       "      <td>[8, 20, 39, 60, 70]</td>\n",
       "      <td>[maxi (length), symmetrical, curved (fit), no ...</td>\n",
       "    </tr>\n",
       "    <tr>\n",
       "      <th>...</th>\n",
       "      <td>...</td>\n",
       "      <td>...</td>\n",
       "      <td>...</td>\n",
       "      <td>...</td>\n",
       "      <td>...</td>\n",
       "      <td>...</td>\n",
       "    </tr>\n",
       "    <tr>\n",
       "      <th>95</th>\n",
       "      <td>023f2eb91095b865fc204ad80c516b77.jpg</td>\n",
       "      <td>[[-1, -1, -1, -1, -1, -1, -1, -1, -1, -1, -1, ...</td>\n",
       "      <td>10</td>\n",
       "      <td>dress</td>\n",
       "      <td>[2, 14, 20, 34, 52, 61, 91]</td>\n",
       "      <td>[micro (length), zip-up, symmetrical, a-line, ...</td>\n",
       "    </tr>\n",
       "    <tr>\n",
       "      <th>96</th>\n",
       "      <td>024767e511bcc50af134f7b545210e44.jpg</td>\n",
       "      <td>[[-1, -1, -1, -1, -1, -1, -1, -1, -1, -1, -1, ...</td>\n",
       "      <td>7</td>\n",
       "      <td>shorts</td>\n",
       "      <td>[2, 20, 41, 48, 61]</td>\n",
       "      <td>[micro (length), symmetrical, regular (fit), f...</td>\n",
       "    </tr>\n",
       "    <tr>\n",
       "      <th>97</th>\n",
       "      <td>024767e511bcc50af134f7b545210e44.jpg</td>\n",
       "      <td>[[-1, -1, -1, -1, -1, -1, -1, -1, -1, -1, -1, ...</td>\n",
       "      <td>1</td>\n",
       "      <td>top, t-shirt, sweatshirt</td>\n",
       "      <td>[20, 41, 61, 91]</td>\n",
       "      <td>[symmetrical, regular (fit), plain (pattern), ...</td>\n",
       "    </tr>\n",
       "    <tr>\n",
       "      <th>98</th>\n",
       "      <td>0248ac2a108ee8c57c5ad931631ef886.jpg</td>\n",
       "      <td>[[-1, -1, -1, -1, -1, -1, -1, -1, -1, -1, -1, ...</td>\n",
       "      <td>10</td>\n",
       "      <td>dress</td>\n",
       "      <td>[9, 14, 20, 38, 57, 61, 86]</td>\n",
       "      <td>[floor (length), zip-up, symmetrical, high low...</td>\n",
       "    </tr>\n",
       "    <tr>\n",
       "      <th>99</th>\n",
       "      <td>02587ca877c2cbc9f3194c299112d15f.jpg</td>\n",
       "      <td>[[-1, -1, -1, -1, -1, -1, -1, -1, -1, -1, -1, ...</td>\n",
       "      <td>10</td>\n",
       "      <td>dress</td>\n",
       "      <td>[5, 14, 19, 38, 53, 87]</td>\n",
       "      <td>[knee (length), zip-up, asymmetrical, high low...</td>\n",
       "    </tr>\n",
       "  </tbody>\n",
       "</table>\n",
       "<p>100 rows × 6 columns</p>\n",
       "</div>"
      ],
      "text/plain": [
       "                                 ImageId  ...                                      AttributeType\n",
       "0   000aac3870ea7c59ca0333ffa5327323.jpg  ...  [mini (length), symmetrical, a-line, cutout, f...\n",
       "1   000aac3870ea7c59ca0333ffa5327323.jpg  ...  [hip (length), single breasted, symmetrical, r...\n",
       "2   000b3a87508b0fa185fbd53ecbe2e4c6.jpg  ...  [knee (length), asymmetrical, straight, lining...\n",
       "3   000e973c99dc090afd7898c93daf0dbc.jpg  ...  [above-the-hip (length), symmetrical, regular ...\n",
       "4   000e973c99dc090afd7898c93daf0dbc.jpg  ...  [maxi (length), symmetrical, curved (fit), no ...\n",
       "..                                   ...  ...                                                ...\n",
       "95  023f2eb91095b865fc204ad80c516b77.jpg  ...  [micro (length), zip-up, symmetrical, a-line, ...\n",
       "96  024767e511bcc50af134f7b545210e44.jpg  ...  [micro (length), symmetrical, regular (fit), f...\n",
       "97  024767e511bcc50af134f7b545210e44.jpg  ...  [symmetrical, regular (fit), plain (pattern), ...\n",
       "98  0248ac2a108ee8c57c5ad931631ef886.jpg  ...  [floor (length), zip-up, symmetrical, high low...\n",
       "99  02587ca877c2cbc9f3194c299112d15f.jpg  ...  [knee (length), zip-up, asymmetrical, high low...\n",
       "\n",
       "[100 rows x 6 columns]"
      ]
     },
     "execution_count": 31,
     "metadata": {
      "tags": []
     },
     "output_type": "execute_result"
    }
   ],
   "source": [
    "image_att"
   ]
  },
  {
   "cell_type": "code",
   "execution_count": 32,
   "metadata": {
    "colab": {
     "base_uri": "https://localhost:8080/",
     "height": 623
    },
    "id": "ch8i3UzQYljg",
    "outputId": "ff1b3d78-3917-451c-b06e-69220fe865c2"
   },
   "outputs": [
    {
     "data": {
      "image/png": "[encoded data removed]",
      "text/plain": [
       "<Figure size 720x720 with 1 Axes>"
      ]
     },
     "metadata": {
      "needs_background": "light",
      "tags": []
     },
     "output_type": "display_data"
    }
   ],
   "source": [
    "# for i in range(len(image_att)):\n",
    "for i in range(1):\n",
    "    plt.figure(figsize=[10,10])\n",
    "    choice = random.randint(1, 99)\n",
    "    # print(image_att['ApparelImage'][choice])\n",
    "    plt.imshow(image_att['ApparelImage'][choice])\n",
    "    plt.title(image_att['ApparelClass'][choice]+'\\n'+'; '.join(image_att['AttributeType'][choice]))"
   ]
  },
  {
   "cell_type": "code",
   "execution_count": 33,
   "metadata": {
    "colab": {
     "base_uri": "https://localhost:8080/"
    },
    "id": "eX4JkuNmYm-k",
    "outputId": "25c4fd20-71e8-48bc-be35-3d6530532ff1"
   },
   "outputs": [
    {
     "name": "stdout",
     "output_type": "stream",
     "text": [
      "WARNING:tensorflow:From /tensorflow-1.15.2/python3.6/tensorflow_core/python/ops/resource_variable_ops.py:1630: calling BaseResourceVariable.__init__ (from tensorflow.python.ops.resource_variable_ops) with constraint is deprecated and will be removed in a future version.\n",
      "Instructions for updating:\n",
      "If using Keras pass *_constraint arguments to layers.\n",
      "WARNING:tensorflow:From /tensorflow-1.15.2/python3.6/keras/backend/tensorflow_backend.py:4070: The name tf.nn.max_pool is deprecated. Please use tf.nn.max_pool2d instead.\n",
      "\n",
      "WARNING:tensorflow:From /tensorflow-1.15.2/python3.6/keras/backend/tensorflow_backend.py:4074: The name tf.nn.avg_pool is deprecated. Please use tf.nn.avg_pool2d instead.\n",
      "\n",
      "Downloading data from https://github.com/fchollet/deep-learning-models/releases/download/v0.5/inception_v3_weights_tf_dim_ordering_tf_kernels.h5\n",
      "96116736/96112376 [==============================] - 7s 0us/step\n"
     ]
    }
   ],
   "source": [
    "from keras.applications.inception_v3 import InceptionV3,preprocess_input\n",
    "from keras.layers import Dense,BatchNormalization,Dropout,Embedding,RepeatVector\n",
    "from keras.preprocessing.image import load_img, img_to_array\n",
    "from keras.models import Sequential\n",
    "from keras.models import Model\n",
    "from pickle import dump, load\n",
    "from keras.models import load_model\n",
    "import numpy as np\n",
    "inception = InceptionV3(weights='imagenet')\n",
    "\n",
    "# pop the last softmax layer and freezing the remaining layers (re-structure the model)\n",
    "inception.layers.pop()\n",
    "#\n",
    "for layer in inception.layers:\n",
    "    layer.trainable = False\n",
    "\n",
    "# building the final model\n",
    "pre_trained_incept_v3 = Model(input = inception.input,output = inception.layers[-1].output)"
   ]
  },
  {
   "cell_type": "code",
   "execution_count": 34,
   "metadata": {
    "colab": {
     "base_uri": "https://localhost:8080/"
    },
    "id": "QFQHmV5eZuKI",
    "outputId": "c1252276-cdc5-4b8a-fe24-5fb88eff10d0"
   },
   "outputs": [
    {
     "name": "stdout",
     "output_type": "stream",
     "text": [
      "Model: \"model_1\"\n",
      "__________________________________________________________________________________________________\n",
      "Layer (type)                    Output Shape         Param #     Connected to                     \n",
      "==================================================================================================\n",
      "input_1 (InputLayer)            (None, 299, 299, 3)  0                                            \n",
      "__________________________________________________________________________________________________\n",
      "conv2d_1 (Conv2D)               (None, 149, 149, 32) 864         input_1[0][0]                    \n",
      "__________________________________________________________________________________________________\n",
      "batch_normalization_1 (BatchNor (None, 149, 149, 32) 96          conv2d_1[0][0]                   \n",
      "__________________________________________________________________________________________________\n",
      "activation_1 (Activation)       (None, 149, 149, 32) 0           batch_normalization_1[0][0]      \n",
      "__________________________________________________________________________________________________\n",
      "conv2d_2 (Conv2D)               (None, 147, 147, 32) 9216        activation_1[0][0]               \n",
      "__________________________________________________________________________________________________\n",
      "batch_normalization_2 (BatchNor (None, 147, 147, 32) 96          conv2d_2[0][0]                   \n",
      "__________________________________________________________________________________________________\n",
      "activation_2 (Activation)       (None, 147, 147, 32) 0           batch_normalization_2[0][0]      \n",
      "__________________________________________________________________________________________________\n",
      "conv2d_3 (Conv2D)               (None, 147, 147, 64) 18432       activation_2[0][0]               \n",
      "__________________________________________________________________________________________________\n",
      "batch_normalization_3 (BatchNor (None, 147, 147, 64) 192         conv2d_3[0][0]                   \n",
      "__________________________________________________________________________________________________\n",
      "activation_3 (Activation)       (None, 147, 147, 64) 0           batch_normalization_3[0][0]      \n",
      "__________________________________________________________________________________________________\n",
      "max_pooling2d_1 (MaxPooling2D)  (None, 73, 73, 64)   0           activation_3[0][0]               \n",
      "__________________________________________________________________________________________________\n",
      "conv2d_4 (Conv2D)               (None, 73, 73, 80)   5120        max_pooling2d_1[0][0]            \n",
      "__________________________________________________________________________________________________\n",
      "batch_normalization_4 (BatchNor (None, 73, 73, 80)   240         conv2d_4[0][0]                   \n",
      "__________________________________________________________________________________________________\n",
      "activation_4 (Activation)       (None, 73, 73, 80)   0           batch_normalization_4[0][0]      \n",
      "__________________________________________________________________________________________________\n",
      "conv2d_5 (Conv2D)               (None, 71, 71, 192)  138240      activation_4[0][0]               \n",
      "__________________________________________________________________________________________________\n",
      "batch_normalization_5 (BatchNor (None, 71, 71, 192)  576         conv2d_5[0][0]                   \n",
      "__________________________________________________________________________________________________\n",
      "activation_5 (Activation)       (None, 71, 71, 192)  0           batch_normalization_5[0][0]      \n",
      "__________________________________________________________________________________________________\n",
      "max_pooling2d_2 (MaxPooling2D)  (None, 35, 35, 192)  0           activation_5[0][0]               \n",
      "__________________________________________________________________________________________________\n",
      "conv2d_9 (Conv2D)               (None, 35, 35, 64)   12288       max_pooling2d_2[0][0]            \n",
      "__________________________________________________________________________________________________\n",
      "batch_normalization_9 (BatchNor (None, 35, 35, 64)   192         conv2d_9[0][0]                   \n",
      "__________________________________________________________________________________________________\n",
      "activation_9 (Activation)       (None, 35, 35, 64)   0           batch_normalization_9[0][0]      \n",
      "__________________________________________________________________________________________________\n",
      "conv2d_7 (Conv2D)               (None, 35, 35, 48)   9216        max_pooling2d_2[0][0]            \n",
      "__________________________________________________________________________________________________\n",
      "conv2d_10 (Conv2D)              (None, 35, 35, 96)   55296       activation_9[0][0]               \n",
      "__________________________________________________________________________________________________\n",
      "batch_normalization_7 (BatchNor (None, 35, 35, 48)   144         conv2d_7[0][0]                   \n",
      "__________________________________________________________________________________________________\n",
      "batch_normalization_10 (BatchNo (None, 35, 35, 96)   288         conv2d_10[0][0]                  \n",
      "__________________________________________________________________________________________________\n",
      "activation_7 (Activation)       (None, 35, 35, 48)   0           batch_normalization_7[0][0]      \n",
      "__________________________________________________________________________________________________\n",
      "activation_10 (Activation)      (None, 35, 35, 96)   0           batch_normalization_10[0][0]     \n",
      "__________________________________________________________________________________________________\n",
      "average_pooling2d_1 (AveragePoo (None, 35, 35, 192)  0           max_pooling2d_2[0][0]            \n",
      "__________________________________________________________________________________________________\n",
      "conv2d_6 (Conv2D)               (None, 35, 35, 64)   12288       max_pooling2d_2[0][0]            \n",
      "__________________________________________________________________________________________________\n",
      "conv2d_8 (Conv2D)               (None, 35, 35, 64)   76800       activation_7[0][0]               \n",
      "__________________________________________________________________________________________________\n",
      "conv2d_11 (Conv2D)              (None, 35, 35, 96)   82944       activation_10[0][0]              \n",
      "__________________________________________________________________________________________________\n",
      "conv2d_12 (Conv2D)              (None, 35, 35, 32)   6144        average_pooling2d_1[0][0]        \n",
      "__________________________________________________________________________________________________\n",
      "batch_normalization_6 (BatchNor (None, 35, 35, 64)   192         conv2d_6[0][0]                   \n",
      "__________________________________________________________________________________________________\n",
      "batch_normalization_8 (BatchNor (None, 35, 35, 64)   192         conv2d_8[0][0]                   \n",
      "__________________________________________________________________________________________________\n",
      "batch_normalization_11 (BatchNo (None, 35, 35, 96)   288         conv2d_11[0][0]                  \n",
      "__________________________________________________________________________________________________\n",
      "batch_normalization_12 (BatchNo (None, 35, 35, 32)   96          conv2d_12[0][0]                  \n",
      "__________________________________________________________________________________________________\n",
      "activation_6 (Activation)       (None, 35, 35, 64)   0           batch_normalization_6[0][0]      \n",
      "__________________________________________________________________________________________________\n",
      "activation_8 (Activation)       (None, 35, 35, 64)   0           batch_normalization_8[0][0]      \n",
      "__________________________________________________________________________________________________\n",
      "activation_11 (Activation)      (None, 35, 35, 96)   0           batch_normalization_11[0][0]     \n",
      "__________________________________________________________________________________________________\n",
      "activation_12 (Activation)      (None, 35, 35, 32)   0           batch_normalization_12[0][0]     \n",
      "__________________________________________________________________________________________________\n",
      "mixed0 (Concatenate)            (None, 35, 35, 256)  0           activation_6[0][0]               \n",
      "                                                                 activation_8[0][0]               \n",
      "                                                                 activation_11[0][0]              \n",
      "                                                                 activation_12[0][0]              \n",
      "__________________________________________________________________________________________________\n",
      "conv2d_16 (Conv2D)              (None, 35, 35, 64)   16384       mixed0[0][0]                     \n",
      "__________________________________________________________________________________________________\n",
      "batch_normalization_16 (BatchNo (None, 35, 35, 64)   192         conv2d_16[0][0]                  \n",
      "__________________________________________________________________________________________________\n",
      "activation_16 (Activation)      (None, 35, 35, 64)   0           batch_normalization_16[0][0]     \n",
      "__________________________________________________________________________________________________\n",
      "conv2d_14 (Conv2D)              (None, 35, 35, 48)   12288       mixed0[0][0]                     \n",
      "__________________________________________________________________________________________________\n",
      "conv2d_17 (Conv2D)              (None, 35, 35, 96)   55296       activation_16[0][0]              \n",
      "__________________________________________________________________________________________________\n",
      "batch_normalization_14 (BatchNo (None, 35, 35, 48)   144         conv2d_14[0][0]                  \n",
      "__________________________________________________________________________________________________\n",
      "batch_normalization_17 (BatchNo (None, 35, 35, 96)   288         conv2d_17[0][0]                  \n",
      "__________________________________________________________________________________________________\n",
      "activation_14 (Activation)      (None, 35, 35, 48)   0           batch_normalization_14[0][0]     \n",
      "__________________________________________________________________________________________________\n",
      "activation_17 (Activation)      (None, 35, 35, 96)   0           batch_normalization_17[0][0]     \n",
      "__________________________________________________________________________________________________\n",
      "average_pooling2d_2 (AveragePoo (None, 35, 35, 256)  0           mixed0[0][0]                     \n",
      "__________________________________________________________________________________________________\n",
      "conv2d_13 (Conv2D)              (None, 35, 35, 64)   16384       mixed0[0][0]                     \n",
      "__________________________________________________________________________________________________\n",
      "conv2d_15 (Conv2D)              (None, 35, 35, 64)   76800       activation_14[0][0]              \n",
      "__________________________________________________________________________________________________\n",
      "conv2d_18 (Conv2D)              (None, 35, 35, 96)   82944       activation_17[0][0]              \n",
      "__________________________________________________________________________________________________\n",
      "conv2d_19 (Conv2D)              (None, 35, 35, 64)   16384       average_pooling2d_2[0][0]        \n",
      "__________________________________________________________________________________________________\n",
      "batch_normalization_13 (BatchNo (None, 35, 35, 64)   192         conv2d_13[0][0]                  \n",
      "__________________________________________________________________________________________________\n",
      "batch_normalization_15 (BatchNo (None, 35, 35, 64)   192         conv2d_15[0][0]                  \n",
      "__________________________________________________________________________________________________\n",
      "batch_normalization_18 (BatchNo (None, 35, 35, 96)   288         conv2d_18[0][0]                  \n",
      "__________________________________________________________________________________________________\n",
      "batch_normalization_19 (BatchNo (None, 35, 35, 64)   192         conv2d_19[0][0]                  \n",
      "__________________________________________________________________________________________________\n",
      "activation_13 (Activation)      (None, 35, 35, 64)   0           batch_normalization_13[0][0]     \n",
      "__________________________________________________________________________________________________\n",
      "activation_15 (Activation)      (None, 35, 35, 64)   0           batch_normalization_15[0][0]     \n",
      "__________________________________________________________________________________________________\n",
      "activation_18 (Activation)      (None, 35, 35, 96)   0           batch_normalization_18[0][0]     \n",
      "__________________________________________________________________________________________________\n",
      "activation_19 (Activation)      (None, 35, 35, 64)   0           batch_normalization_19[0][0]     \n",
      "__________________________________________________________________________________________________\n",
      "mixed1 (Concatenate)            (None, 35, 35, 288)  0           activation_13[0][0]              \n",
      "                                                                 activation_15[0][0]              \n",
      "                                                                 activation_18[0][0]              \n",
      "                                                                 activation_19[0][0]              \n",
      "__________________________________________________________________________________________________\n",
      "conv2d_23 (Conv2D)              (None, 35, 35, 64)   18432       mixed1[0][0]                     \n",
      "__________________________________________________________________________________________________\n",
      "batch_normalization_23 (BatchNo (None, 35, 35, 64)   192         conv2d_23[0][0]                  \n",
      "__________________________________________________________________________________________________\n",
      "activation_23 (Activation)      (None, 35, 35, 64)   0           batch_normalization_23[0][0]     \n",
      "__________________________________________________________________________________________________\n",
      "conv2d_21 (Conv2D)              (None, 35, 35, 48)   13824       mixed1[0][0]                     \n",
      "__________________________________________________________________________________________________\n",
      "conv2d_24 (Conv2D)              (None, 35, 35, 96)   55296       activation_23[0][0]              \n",
      "__________________________________________________________________________________________________\n",
      "batch_normalization_21 (BatchNo (None, 35, 35, 48)   144         conv2d_21[0][0]                  \n",
      "__________________________________________________________________________________________________\n",
      "batch_normalization_24 (BatchNo (None, 35, 35, 96)   288         conv2d_24[0][0]                  \n",
      "__________________________________________________________________________________________________\n",
      "activation_21 (Activation)      (None, 35, 35, 48)   0           batch_normalization_21[0][0]     \n",
      "__________________________________________________________________________________________________\n",
      "activation_24 (Activation)      (None, 35, 35, 96)   0           batch_normalization_24[0][0]     \n",
      "__________________________________________________________________________________________________\n",
      "average_pooling2d_3 (AveragePoo (None, 35, 35, 288)  0           mixed1[0][0]                     \n",
      "__________________________________________________________________________________________________\n",
      "conv2d_20 (Conv2D)              (None, 35, 35, 64)   18432       mixed1[0][0]                     \n",
      "__________________________________________________________________________________________________\n",
      "conv2d_22 (Conv2D)              (None, 35, 35, 64)   76800       activation_21[0][0]              \n",
      "__________________________________________________________________________________________________\n",
      "conv2d_25 (Conv2D)              (None, 35, 35, 96)   82944       activation_24[0][0]              \n",
      "__________________________________________________________________________________________________\n",
      "conv2d_26 (Conv2D)              (None, 35, 35, 64)   18432       average_pooling2d_3[0][0]        \n",
      "__________________________________________________________________________________________________\n",
      "batch_normalization_20 (BatchNo (None, 35, 35, 64)   192         conv2d_20[0][0]                  \n",
      "__________________________________________________________________________________________________\n",
      "batch_normalization_22 (BatchNo (None, 35, 35, 64)   192         conv2d_22[0][0]                  \n",
      "__________________________________________________________________________________________________\n",
      "batch_normalization_25 (BatchNo (None, 35, 35, 96)   288         conv2d_25[0][0]                  \n",
      "__________________________________________________________________________________________________\n",
      "batch_normalization_26 (BatchNo (None, 35, 35, 64)   192         conv2d_26[0][0]                  \n",
      "__________________________________________________________________________________________________\n",
      "activation_20 (Activation)      (None, 35, 35, 64)   0           batch_normalization_20[0][0]     \n",
      "__________________________________________________________________________________________________\n",
      "activation_22 (Activation)      (None, 35, 35, 64)   0           batch_normalization_22[0][0]     \n",
      "__________________________________________________________________________________________________\n",
      "activation_25 (Activation)      (None, 35, 35, 96)   0           batch_normalization_25[0][0]     \n",
      "__________________________________________________________________________________________________\n",
      "activation_26 (Activation)      (None, 35, 35, 64)   0           batch_normalization_26[0][0]     \n",
      "__________________________________________________________________________________________________\n",
      "mixed2 (Concatenate)            (None, 35, 35, 288)  0           activation_20[0][0]              \n",
      "                                                                 activation_22[0][0]              \n",
      "                                                                 activation_25[0][0]              \n",
      "                                                                 activation_26[0][0]              \n",
      "__________________________________________________________________________________________________\n",
      "conv2d_28 (Conv2D)              (None, 35, 35, 64)   18432       mixed2[0][0]                     \n",
      "__________________________________________________________________________________________________\n",
      "batch_normalization_28 (BatchNo (None, 35, 35, 64)   192         conv2d_28[0][0]                  \n",
      "__________________________________________________________________________________________________\n",
      "activation_28 (Activation)      (None, 35, 35, 64)   0           batch_normalization_28[0][0]     \n",
      "__________________________________________________________________________________________________\n",
      "conv2d_29 (Conv2D)              (None, 35, 35, 96)   55296       activation_28[0][0]              \n",
      "__________________________________________________________________________________________________\n",
      "batch_normalization_29 (BatchNo (None, 35, 35, 96)   288         conv2d_29[0][0]                  \n",
      "__________________________________________________________________________________________________\n",
      "activation_29 (Activation)      (None, 35, 35, 96)   0           batch_normalization_29[0][0]     \n",
      "__________________________________________________________________________________________________\n",
      "conv2d_27 (Conv2D)              (None, 17, 17, 384)  995328      mixed2[0][0]                     \n",
      "__________________________________________________________________________________________________\n",
      "conv2d_30 (Conv2D)              (None, 17, 17, 96)   82944       activation_29[0][0]              \n",
      "__________________________________________________________________________________________________\n",
      "batch_normalization_27 (BatchNo (None, 17, 17, 384)  1152        conv2d_27[0][0]                  \n",
      "__________________________________________________________________________________________________\n",
      "batch_normalization_30 (BatchNo (None, 17, 17, 96)   288         conv2d_30[0][0]                  \n",
      "__________________________________________________________________________________________________\n",
      "activation_27 (Activation)      (None, 17, 17, 384)  0           batch_normalization_27[0][0]     \n",
      "__________________________________________________________________________________________________\n",
      "activation_30 (Activation)      (None, 17, 17, 96)   0           batch_normalization_30[0][0]     \n",
      "__________________________________________________________________________________________________\n",
      "max_pooling2d_3 (MaxPooling2D)  (None, 17, 17, 288)  0           mixed2[0][0]                     \n",
      "__________________________________________________________________________________________________\n",
      "mixed3 (Concatenate)            (None, 17, 17, 768)  0           activation_27[0][0]              \n",
      "                                                                 activation_30[0][0]              \n",
      "                                                                 max_pooling2d_3[0][0]            \n",
      "__________________________________________________________________________________________________\n",
      "conv2d_35 (Conv2D)              (None, 17, 17, 128)  98304       mixed3[0][0]                     \n",
      "__________________________________________________________________________________________________\n",
      "batch_normalization_35 (BatchNo (None, 17, 17, 128)  384         conv2d_35[0][0]                  \n",
      "__________________________________________________________________________________________________\n",
      "activation_35 (Activation)      (None, 17, 17, 128)  0           batch_normalization_35[0][0]     \n",
      "__________________________________________________________________________________________________\n",
      "conv2d_36 (Conv2D)              (None, 17, 17, 128)  114688      activation_35[0][0]              \n",
      "__________________________________________________________________________________________________\n",
      "batch_normalization_36 (BatchNo (None, 17, 17, 128)  384         conv2d_36[0][0]                  \n",
      "__________________________________________________________________________________________________\n",
      "activation_36 (Activation)      (None, 17, 17, 128)  0           batch_normalization_36[0][0]     \n",
      "__________________________________________________________________________________________________\n",
      "conv2d_32 (Conv2D)              (None, 17, 17, 128)  98304       mixed3[0][0]                     \n",
      "__________________________________________________________________________________________________\n",
      "conv2d_37 (Conv2D)              (None, 17, 17, 128)  114688      activation_36[0][0]              \n",
      "__________________________________________________________________________________________________\n",
      "batch_normalization_32 (BatchNo (None, 17, 17, 128)  384         conv2d_32[0][0]                  \n",
      "__________________________________________________________________________________________________\n",
      "batch_normalization_37 (BatchNo (None, 17, 17, 128)  384         conv2d_37[0][0]                  \n",
      "__________________________________________________________________________________________________\n",
      "activation_32 (Activation)      (None, 17, 17, 128)  0           batch_normalization_32[0][0]     \n",
      "__________________________________________________________________________________________________\n",
      "activation_37 (Activation)      (None, 17, 17, 128)  0           batch_normalization_37[0][0]     \n",
      "__________________________________________________________________________________________________\n",
      "conv2d_33 (Conv2D)              (None, 17, 17, 128)  114688      activation_32[0][0]              \n",
      "__________________________________________________________________________________________________\n",
      "conv2d_38 (Conv2D)              (None, 17, 17, 128)  114688      activation_37[0][0]              \n",
      "__________________________________________________________________________________________________\n",
      "batch_normalization_33 (BatchNo (None, 17, 17, 128)  384         conv2d_33[0][0]                  \n",
      "__________________________________________________________________________________________________\n",
      "batch_normalization_38 (BatchNo (None, 17, 17, 128)  384         conv2d_38[0][0]                  \n",
      "__________________________________________________________________________________________________\n",
      "activation_33 (Activation)      (None, 17, 17, 128)  0           batch_normalization_33[0][0]     \n",
      "__________________________________________________________________________________________________\n",
      "activation_38 (Activation)      (None, 17, 17, 128)  0           batch_normalization_38[0][0]     \n",
      "__________________________________________________________________________________________________\n",
      "average_pooling2d_4 (AveragePoo (None, 17, 17, 768)  0           mixed3[0][0]                     \n",
      "__________________________________________________________________________________________________\n",
      "conv2d_31 (Conv2D)              (None, 17, 17, 192)  147456      mixed3[0][0]                     \n",
      "__________________________________________________________________________________________________\n",
      "conv2d_34 (Conv2D)              (None, 17, 17, 192)  172032      activation_33[0][0]              \n",
      "__________________________________________________________________________________________________\n",
      "conv2d_39 (Conv2D)              (None, 17, 17, 192)  172032      activation_38[0][0]              \n",
      "__________________________________________________________________________________________________\n",
      "conv2d_40 (Conv2D)              (None, 17, 17, 192)  147456      average_pooling2d_4[0][0]        \n",
      "__________________________________________________________________________________________________\n",
      "batch_normalization_31 (BatchNo (None, 17, 17, 192)  576         conv2d_31[0][0]                  \n",
      "__________________________________________________________________________________________________\n",
      "batch_normalization_34 (BatchNo (None, 17, 17, 192)  576         conv2d_34[0][0]                  \n",
      "__________________________________________________________________________________________________\n",
      "batch_normalization_39 (BatchNo (None, 17, 17, 192)  576         conv2d_39[0][0]                  \n",
      "__________________________________________________________________________________________________\n",
      "batch_normalization_40 (BatchNo (None, 17, 17, 192)  576         conv2d_40[0][0]                  \n",
      "__________________________________________________________________________________________________\n",
      "activation_31 (Activation)      (None, 17, 17, 192)  0           batch_normalization_31[0][0]     \n",
      "__________________________________________________________________________________________________\n",
      "activation_34 (Activation)      (None, 17, 17, 192)  0           batch_normalization_34[0][0]     \n",
      "__________________________________________________________________________________________________\n",
      "activation_39 (Activation)      (None, 17, 17, 192)  0           batch_normalization_39[0][0]     \n",
      "__________________________________________________________________________________________________\n",
      "activation_40 (Activation)      (None, 17, 17, 192)  0           batch_normalization_40[0][0]     \n",
      "__________________________________________________________________________________________________\n",
      "mixed4 (Concatenate)            (None, 17, 17, 768)  0           activation_31[0][0]              \n",
      "                                                                 activation_34[0][0]              \n",
      "                                                                 activation_39[0][0]              \n",
      "                                                                 activation_40[0][0]              \n",
      "__________________________________________________________________________________________________\n",
      "conv2d_45 (Conv2D)              (None, 17, 17, 160)  122880      mixed4[0][0]                     \n",
      "__________________________________________________________________________________________________\n",
      "batch_normalization_45 (BatchNo (None, 17, 17, 160)  480         conv2d_45[0][0]                  \n",
      "__________________________________________________________________________________________________\n",
      "activation_45 (Activation)      (None, 17, 17, 160)  0           batch_normalization_45[0][0]     \n",
      "__________________________________________________________________________________________________\n",
      "conv2d_46 (Conv2D)              (None, 17, 17, 160)  179200      activation_45[0][0]              \n",
      "__________________________________________________________________________________________________\n",
      "batch_normalization_46 (BatchNo (None, 17, 17, 160)  480         conv2d_46[0][0]                  \n",
      "__________________________________________________________________________________________________\n",
      "activation_46 (Activation)      (None, 17, 17, 160)  0           batch_normalization_46[0][0]     \n",
      "__________________________________________________________________________________________________\n",
      "conv2d_42 (Conv2D)              (None, 17, 17, 160)  122880      mixed4[0][0]                     \n",
      "__________________________________________________________________________________________________\n",
      "conv2d_47 (Conv2D)              (None, 17, 17, 160)  179200      activation_46[0][0]              \n",
      "__________________________________________________________________________________________________\n",
      "batch_normalization_42 (BatchNo (None, 17, 17, 160)  480         conv2d_42[0][0]                  \n",
      "__________________________________________________________________________________________________\n",
      "batch_normalization_47 (BatchNo (None, 17, 17, 160)  480         conv2d_47[0][0]                  \n",
      "__________________________________________________________________________________________________\n",
      "activation_42 (Activation)      (None, 17, 17, 160)  0           batch_normalization_42[0][0]     \n",
      "__________________________________________________________________________________________________\n",
      "activation_47 (Activation)      (None, 17, 17, 160)  0           batch_normalization_47[0][0]     \n",
      "__________________________________________________________________________________________________\n",
      "conv2d_43 (Conv2D)              (None, 17, 17, 160)  179200      activation_42[0][0]              \n",
      "__________________________________________________________________________________________________\n",
      "conv2d_48 (Conv2D)              (None, 17, 17, 160)  179200      activation_47[0][0]              \n",
      "__________________________________________________________________________________________________\n",
      "batch_normalization_43 (BatchNo (None, 17, 17, 160)  480         conv2d_43[0][0]                  \n",
      "__________________________________________________________________________________________________\n",
      "batch_normalization_48 (BatchNo (None, 17, 17, 160)  480         conv2d_48[0][0]                  \n",
      "__________________________________________________________________________________________________\n",
      "activation_43 (Activation)      (None, 17, 17, 160)  0           batch_normalization_43[0][0]     \n",
      "__________________________________________________________________________________________________\n",
      "activation_48 (Activation)      (None, 17, 17, 160)  0           batch_normalization_48[0][0]     \n",
      "__________________________________________________________________________________________________\n",
      "average_pooling2d_5 (AveragePoo (None, 17, 17, 768)  0           mixed4[0][0]                     \n",
      "__________________________________________________________________________________________________\n",
      "conv2d_41 (Conv2D)              (None, 17, 17, 192)  147456      mixed4[0][0]                     \n",
      "__________________________________________________________________________________________________\n",
      "conv2d_44 (Conv2D)              (None, 17, 17, 192)  215040      activation_43[0][0]              \n",
      "__________________________________________________________________________________________________\n",
      "conv2d_49 (Conv2D)              (None, 17, 17, 192)  215040      activation_48[0][0]              \n",
      "__________________________________________________________________________________________________\n",
      "conv2d_50 (Conv2D)              (None, 17, 17, 192)  147456      average_pooling2d_5[0][0]        \n",
      "__________________________________________________________________________________________________\n",
      "batch_normalization_41 (BatchNo (None, 17, 17, 192)  576         conv2d_41[0][0]                  \n",
      "__________________________________________________________________________________________________\n",
      "batch_normalization_44 (BatchNo (None, 17, 17, 192)  576         conv2d_44[0][0]                  \n",
      "__________________________________________________________________________________________________\n",
      "batch_normalization_49 (BatchNo (None, 17, 17, 192)  576         conv2d_49[0][0]                  \n",
      "__________________________________________________________________________________________________\n",
      "batch_normalization_50 (BatchNo (None, 17, 17, 192)  576         conv2d_50[0][0]                  \n",
      "__________________________________________________________________________________________________\n",
      "activation_41 (Activation)      (None, 17, 17, 192)  0           batch_normalization_41[0][0]     \n",
      "__________________________________________________________________________________________________\n",
      "activation_44 (Activation)      (None, 17, 17, 192)  0           batch_normalization_44[0][0]     \n",
      "__________________________________________________________________________________________________\n",
      "activation_49 (Activation)      (None, 17, 17, 192)  0           batch_normalization_49[0][0]     \n",
      "__________________________________________________________________________________________________\n",
      "activation_50 (Activation)      (None, 17, 17, 192)  0           batch_normalization_50[0][0]     \n",
      "__________________________________________________________________________________________________\n",
      "mixed5 (Concatenate)            (None, 17, 17, 768)  0           activation_41[0][0]              \n",
      "                                                                 activation_44[0][0]              \n",
      "                                                                 activation_49[0][0]              \n",
      "                                                                 activation_50[0][0]              \n",
      "__________________________________________________________________________________________________\n",
      "conv2d_55 (Conv2D)              (None, 17, 17, 160)  122880      mixed5[0][0]                     \n",
      "__________________________________________________________________________________________________\n",
      "batch_normalization_55 (BatchNo (None, 17, 17, 160)  480         conv2d_55[0][0]                  \n",
      "__________________________________________________________________________________________________\n",
      "activation_55 (Activation)      (None, 17, 17, 160)  0           batch_normalization_55[0][0]     \n",
      "__________________________________________________________________________________________________\n",
      "conv2d_56 (Conv2D)              (None, 17, 17, 160)  179200      activation_55[0][0]              \n",
      "__________________________________________________________________________________________________\n",
      "batch_normalization_56 (BatchNo (None, 17, 17, 160)  480         conv2d_56[0][0]                  \n",
      "__________________________________________________________________________________________________\n",
      "activation_56 (Activation)      (None, 17, 17, 160)  0           batch_normalization_56[0][0]     \n",
      "__________________________________________________________________________________________________\n",
      "conv2d_52 (Conv2D)              (None, 17, 17, 160)  122880      mixed5[0][0]                     \n",
      "__________________________________________________________________________________________________\n",
      "conv2d_57 (Conv2D)              (None, 17, 17, 160)  179200      activation_56[0][0]              \n",
      "__________________________________________________________________________________________________\n",
      "batch_normalization_52 (BatchNo (None, 17, 17, 160)  480         conv2d_52[0][0]                  \n",
      "__________________________________________________________________________________________________\n",
      "batch_normalization_57 (BatchNo (None, 17, 17, 160)  480         conv2d_57[0][0]                  \n",
      "__________________________________________________________________________________________________\n",
      "activation_52 (Activation)      (None, 17, 17, 160)  0           batch_normalization_52[0][0]     \n",
      "__________________________________________________________________________________________________\n",
      "activation_57 (Activation)      (None, 17, 17, 160)  0           batch_normalization_57[0][0]     \n",
      "__________________________________________________________________________________________________\n",
      "conv2d_53 (Conv2D)              (None, 17, 17, 160)  179200      activation_52[0][0]              \n",
      "__________________________________________________________________________________________________\n",
      "conv2d_58 (Conv2D)              (None, 17, 17, 160)  179200      activation_57[0][0]              \n",
      "__________________________________________________________________________________________________\n",
      "batch_normalization_53 (BatchNo (None, 17, 17, 160)  480         conv2d_53[0][0]                  \n",
      "__________________________________________________________________________________________________\n",
      "batch_normalization_58 (BatchNo (None, 17, 17, 160)  480         conv2d_58[0][0]                  \n",
      "__________________________________________________________________________________________________\n",
      "activation_53 (Activation)      (None, 17, 17, 160)  0           batch_normalization_53[0][0]     \n",
      "__________________________________________________________________________________________________\n",
      "activation_58 (Activation)      (None, 17, 17, 160)  0           batch_normalization_58[0][0]     \n",
      "__________________________________________________________________________________________________\n",
      "average_pooling2d_6 (AveragePoo (None, 17, 17, 768)  0           mixed5[0][0]                     \n",
      "__________________________________________________________________________________________________\n",
      "conv2d_51 (Conv2D)              (None, 17, 17, 192)  147456      mixed5[0][0]                     \n",
      "__________________________________________________________________________________________________\n",
      "conv2d_54 (Conv2D)              (None, 17, 17, 192)  215040      activation_53[0][0]              \n",
      "__________________________________________________________________________________________________\n",
      "conv2d_59 (Conv2D)              (None, 17, 17, 192)  215040      activation_58[0][0]              \n",
      "__________________________________________________________________________________________________\n",
      "conv2d_60 (Conv2D)              (None, 17, 17, 192)  147456      average_pooling2d_6[0][0]        \n",
      "__________________________________________________________________________________________________\n",
      "batch_normalization_51 (BatchNo (None, 17, 17, 192)  576         conv2d_51[0][0]                  \n",
      "__________________________________________________________________________________________________\n",
      "batch_normalization_54 (BatchNo (None, 17, 17, 192)  576         conv2d_54[0][0]                  \n",
      "__________________________________________________________________________________________________\n",
      "batch_normalization_59 (BatchNo (None, 17, 17, 192)  576         conv2d_59[0][0]                  \n",
      "__________________________________________________________________________________________________\n",
      "batch_normalization_60 (BatchNo (None, 17, 17, 192)  576         conv2d_60[0][0]                  \n",
      "__________________________________________________________________________________________________\n",
      "activation_51 (Activation)      (None, 17, 17, 192)  0           batch_normalization_51[0][0]     \n",
      "__________________________________________________________________________________________________\n",
      "activation_54 (Activation)      (None, 17, 17, 192)  0           batch_normalization_54[0][0]     \n",
      "__________________________________________________________________________________________________\n",
      "activation_59 (Activation)      (None, 17, 17, 192)  0           batch_normalization_59[0][0]     \n",
      "__________________________________________________________________________________________________\n",
      "activation_60 (Activation)      (None, 17, 17, 192)  0           batch_normalization_60[0][0]     \n",
      "__________________________________________________________________________________________________\n",
      "mixed6 (Concatenate)            (None, 17, 17, 768)  0           activation_51[0][0]              \n",
      "                                                                 activation_54[0][0]              \n",
      "                                                                 activation_59[0][0]              \n",
      "                                                                 activation_60[0][0]              \n",
      "__________________________________________________________________________________________________\n",
      "conv2d_65 (Conv2D)              (None, 17, 17, 192)  147456      mixed6[0][0]                     \n",
      "__________________________________________________________________________________________________\n",
      "batch_normalization_65 (BatchNo (None, 17, 17, 192)  576         conv2d_65[0][0]                  \n",
      "__________________________________________________________________________________________________\n",
      "activation_65 (Activation)      (None, 17, 17, 192)  0           batch_normalization_65[0][0]     \n",
      "__________________________________________________________________________________________________\n",
      "conv2d_66 (Conv2D)              (None, 17, 17, 192)  258048      activation_65[0][0]              \n",
      "__________________________________________________________________________________________________\n",
      "batch_normalization_66 (BatchNo (None, 17, 17, 192)  576         conv2d_66[0][0]                  \n",
      "__________________________________________________________________________________________________\n",
      "activation_66 (Activation)      (None, 17, 17, 192)  0           batch_normalization_66[0][0]     \n",
      "__________________________________________________________________________________________________\n",
      "conv2d_62 (Conv2D)              (None, 17, 17, 192)  147456      mixed6[0][0]                     \n",
      "__________________________________________________________________________________________________\n",
      "conv2d_67 (Conv2D)              (None, 17, 17, 192)  258048      activation_66[0][0]              \n",
      "__________________________________________________________________________________________________\n",
      "batch_normalization_62 (BatchNo (None, 17, 17, 192)  576         conv2d_62[0][0]                  \n",
      "__________________________________________________________________________________________________\n",
      "batch_normalization_67 (BatchNo (None, 17, 17, 192)  576         conv2d_67[0][0]                  \n",
      "__________________________________________________________________________________________________\n",
      "activation_62 (Activation)      (None, 17, 17, 192)  0           batch_normalization_62[0][0]     \n",
      "__________________________________________________________________________________________________\n",
      "activation_67 (Activation)      (None, 17, 17, 192)  0           batch_normalization_67[0][0]     \n",
      "__________________________________________________________________________________________________\n",
      "conv2d_63 (Conv2D)              (None, 17, 17, 192)  258048      activation_62[0][0]              \n",
      "__________________________________________________________________________________________________\n",
      "conv2d_68 (Conv2D)              (None, 17, 17, 192)  258048      activation_67[0][0]              \n",
      "__________________________________________________________________________________________________\n",
      "batch_normalization_63 (BatchNo (None, 17, 17, 192)  576         conv2d_63[0][0]                  \n",
      "__________________________________________________________________________________________________\n",
      "batch_normalization_68 (BatchNo (None, 17, 17, 192)  576         conv2d_68[0][0]                  \n",
      "__________________________________________________________________________________________________\n",
      "activation_63 (Activation)      (None, 17, 17, 192)  0           batch_normalization_63[0][0]     \n",
      "__________________________________________________________________________________________________\n",
      "activation_68 (Activation)      (None, 17, 17, 192)  0           batch_normalization_68[0][0]     \n",
      "__________________________________________________________________________________________________\n",
      "average_pooling2d_7 (AveragePoo (None, 17, 17, 768)  0           mixed6[0][0]                     \n",
      "__________________________________________________________________________________________________\n",
      "conv2d_61 (Conv2D)              (None, 17, 17, 192)  147456      mixed6[0][0]                     \n",
      "__________________________________________________________________________________________________\n",
      "conv2d_64 (Conv2D)              (None, 17, 17, 192)  258048      activation_63[0][0]              \n",
      "__________________________________________________________________________________________________\n",
      "conv2d_69 (Conv2D)              (None, 17, 17, 192)  258048      activation_68[0][0]              \n",
      "__________________________________________________________________________________________________\n",
      "conv2d_70 (Conv2D)              (None, 17, 17, 192)  147456      average_pooling2d_7[0][0]        \n",
      "__________________________________________________________________________________________________\n",
      "batch_normalization_61 (BatchNo (None, 17, 17, 192)  576         conv2d_61[0][0]                  \n",
      "__________________________________________________________________________________________________\n",
      "batch_normalization_64 (BatchNo (None, 17, 17, 192)  576         conv2d_64[0][0]                  \n",
      "__________________________________________________________________________________________________\n",
      "batch_normalization_69 (BatchNo (None, 17, 17, 192)  576         conv2d_69[0][0]                  \n",
      "__________________________________________________________________________________________________\n",
      "batch_normalization_70 (BatchNo (None, 17, 17, 192)  576         conv2d_70[0][0]                  \n",
      "__________________________________________________________________________________________________\n",
      "activation_61 (Activation)      (None, 17, 17, 192)  0           batch_normalization_61[0][0]     \n",
      "__________________________________________________________________________________________________\n",
      "activation_64 (Activation)      (None, 17, 17, 192)  0           batch_normalization_64[0][0]     \n",
      "__________________________________________________________________________________________________\n",
      "activation_69 (Activation)      (None, 17, 17, 192)  0           batch_normalization_69[0][0]     \n",
      "__________________________________________________________________________________________________\n",
      "activation_70 (Activation)      (None, 17, 17, 192)  0           batch_normalization_70[0][0]     \n",
      "__________________________________________________________________________________________________\n",
      "mixed7 (Concatenate)            (None, 17, 17, 768)  0           activation_61[0][0]              \n",
      "                                                                 activation_64[0][0]              \n",
      "                                                                 activation_69[0][0]              \n",
      "                                                                 activation_70[0][0]              \n",
      "__________________________________________________________________________________________________\n",
      "conv2d_73 (Conv2D)              (None, 17, 17, 192)  147456      mixed7[0][0]                     \n",
      "__________________________________________________________________________________________________\n",
      "batch_normalization_73 (BatchNo (None, 17, 17, 192)  576         conv2d_73[0][0]                  \n",
      "__________________________________________________________________________________________________\n",
      "activation_73 (Activation)      (None, 17, 17, 192)  0           batch_normalization_73[0][0]     \n",
      "__________________________________________________________________________________________________\n",
      "conv2d_74 (Conv2D)              (None, 17, 17, 192)  258048      activation_73[0][0]              \n",
      "__________________________________________________________________________________________________\n",
      "batch_normalization_74 (BatchNo (None, 17, 17, 192)  576         conv2d_74[0][0]                  \n",
      "__________________________________________________________________________________________________\n",
      "activation_74 (Activation)      (None, 17, 17, 192)  0           batch_normalization_74[0][0]     \n",
      "__________________________________________________________________________________________________\n",
      "conv2d_71 (Conv2D)              (None, 17, 17, 192)  147456      mixed7[0][0]                     \n",
      "__________________________________________________________________________________________________\n",
      "conv2d_75 (Conv2D)              (None, 17, 17, 192)  258048      activation_74[0][0]              \n",
      "__________________________________________________________________________________________________\n",
      "batch_normalization_71 (BatchNo (None, 17, 17, 192)  576         conv2d_71[0][0]                  \n",
      "__________________________________________________________________________________________________\n",
      "batch_normalization_75 (BatchNo (None, 17, 17, 192)  576         conv2d_75[0][0]                  \n",
      "__________________________________________________________________________________________________\n",
      "activation_71 (Activation)      (None, 17, 17, 192)  0           batch_normalization_71[0][0]     \n",
      "__________________________________________________________________________________________________\n",
      "activation_75 (Activation)      (None, 17, 17, 192)  0           batch_normalization_75[0][0]     \n",
      "__________________________________________________________________________________________________\n",
      "conv2d_72 (Conv2D)              (None, 8, 8, 320)    552960      activation_71[0][0]              \n",
      "__________________________________________________________________________________________________\n",
      "conv2d_76 (Conv2D)              (None, 8, 8, 192)    331776      activation_75[0][0]              \n",
      "__________________________________________________________________________________________________\n",
      "batch_normalization_72 (BatchNo (None, 8, 8, 320)    960         conv2d_72[0][0]                  \n",
      "__________________________________________________________________________________________________\n",
      "batch_normalization_76 (BatchNo (None, 8, 8, 192)    576         conv2d_76[0][0]                  \n",
      "__________________________________________________________________________________________________\n",
      "activation_72 (Activation)      (None, 8, 8, 320)    0           batch_normalization_72[0][0]     \n",
      "__________________________________________________________________________________________________\n",
      "activation_76 (Activation)      (None, 8, 8, 192)    0           batch_normalization_76[0][0]     \n",
      "__________________________________________________________________________________________________\n",
      "max_pooling2d_4 (MaxPooling2D)  (None, 8, 8, 768)    0           mixed7[0][0]                     \n",
      "__________________________________________________________________________________________________\n",
      "mixed8 (Concatenate)            (None, 8, 8, 1280)   0           activation_72[0][0]              \n",
      "                                                                 activation_76[0][0]              \n",
      "                                                                 max_pooling2d_4[0][0]            \n",
      "__________________________________________________________________________________________________\n",
      "conv2d_81 (Conv2D)              (None, 8, 8, 448)    573440      mixed8[0][0]                     \n",
      "__________________________________________________________________________________________________\n",
      "batch_normalization_81 (BatchNo (None, 8, 8, 448)    1344        conv2d_81[0][0]                  \n",
      "__________________________________________________________________________________________________\n",
      "activation_81 (Activation)      (None, 8, 8, 448)    0           batch_normalization_81[0][0]     \n",
      "__________________________________________________________________________________________________\n",
      "conv2d_78 (Conv2D)              (None, 8, 8, 384)    491520      mixed8[0][0]                     \n",
      "__________________________________________________________________________________________________\n",
      "conv2d_82 (Conv2D)              (None, 8, 8, 384)    1548288     activation_81[0][0]              \n",
      "__________________________________________________________________________________________________\n",
      "batch_normalization_78 (BatchNo (None, 8, 8, 384)    1152        conv2d_78[0][0]                  \n",
      "__________________________________________________________________________________________________\n",
      "batch_normalization_82 (BatchNo (None, 8, 8, 384)    1152        conv2d_82[0][0]                  \n",
      "__________________________________________________________________________________________________\n",
      "activation_78 (Activation)      (None, 8, 8, 384)    0           batch_normalization_78[0][0]     \n",
      "__________________________________________________________________________________________________\n",
      "activation_82 (Activation)      (None, 8, 8, 384)    0           batch_normalization_82[0][0]     \n",
      "__________________________________________________________________________________________________\n",
      "conv2d_79 (Conv2D)              (None, 8, 8, 384)    442368      activation_78[0][0]              \n",
      "__________________________________________________________________________________________________\n",
      "conv2d_80 (Conv2D)              (None, 8, 8, 384)    442368      activation_78[0][0]              \n",
      "__________________________________________________________________________________________________\n",
      "conv2d_83 (Conv2D)              (None, 8, 8, 384)    442368      activation_82[0][0]              \n",
      "__________________________________________________________________________________________________\n",
      "conv2d_84 (Conv2D)              (None, 8, 8, 384)    442368      activation_82[0][0]              \n",
      "__________________________________________________________________________________________________\n",
      "average_pooling2d_8 (AveragePoo (None, 8, 8, 1280)   0           mixed8[0][0]                     \n",
      "__________________________________________________________________________________________________\n",
      "conv2d_77 (Conv2D)              (None, 8, 8, 320)    409600      mixed8[0][0]                     \n",
      "__________________________________________________________________________________________________\n",
      "batch_normalization_79 (BatchNo (None, 8, 8, 384)    1152        conv2d_79[0][0]                  \n",
      "__________________________________________________________________________________________________\n",
      "batch_normalization_80 (BatchNo (None, 8, 8, 384)    1152        conv2d_80[0][0]                  \n",
      "__________________________________________________________________________________________________\n",
      "batch_normalization_83 (BatchNo (None, 8, 8, 384)    1152        conv2d_83[0][0]                  \n",
      "__________________________________________________________________________________________________\n",
      "batch_normalization_84 (BatchNo (None, 8, 8, 384)    1152        conv2d_84[0][0]                  \n",
      "__________________________________________________________________________________________________\n",
      "conv2d_85 (Conv2D)              (None, 8, 8, 192)    245760      average_pooling2d_8[0][0]        \n",
      "__________________________________________________________________________________________________\n",
      "batch_normalization_77 (BatchNo (None, 8, 8, 320)    960         conv2d_77[0][0]                  \n",
      "__________________________________________________________________________________________________\n",
      "activation_79 (Activation)      (None, 8, 8, 384)    0           batch_normalization_79[0][0]     \n",
      "__________________________________________________________________________________________________\n",
      "activation_80 (Activation)      (None, 8, 8, 384)    0           batch_normalization_80[0][0]     \n",
      "__________________________________________________________________________________________________\n",
      "activation_83 (Activation)      (None, 8, 8, 384)    0           batch_normalization_83[0][0]     \n",
      "__________________________________________________________________________________________________\n",
      "activation_84 (Activation)      (None, 8, 8, 384)    0           batch_normalization_84[0][0]     \n",
      "__________________________________________________________________________________________________\n",
      "batch_normalization_85 (BatchNo (None, 8, 8, 192)    576         conv2d_85[0][0]                  \n",
      "__________________________________________________________________________________________________\n",
      "activation_77 (Activation)      (None, 8, 8, 320)    0           batch_normalization_77[0][0]     \n",
      "__________________________________________________________________________________________________\n",
      "mixed9_0 (Concatenate)          (None, 8, 8, 768)    0           activation_79[0][0]              \n",
      "                                                                 activation_80[0][0]              \n",
      "__________________________________________________________________________________________________\n",
      "concatenate_1 (Concatenate)     (None, 8, 8, 768)    0           activation_83[0][0]              \n",
      "                                                                 activation_84[0][0]              \n",
      "__________________________________________________________________________________________________\n",
      "activation_85 (Activation)      (None, 8, 8, 192)    0           batch_normalization_85[0][0]     \n",
      "__________________________________________________________________________________________________\n",
      "mixed9 (Concatenate)            (None, 8, 8, 2048)   0           activation_77[0][0]              \n",
      "                                                                 mixed9_0[0][0]                   \n",
      "                                                                 concatenate_1[0][0]              \n",
      "                                                                 activation_85[0][0]              \n",
      "__________________________________________________________________________________________________\n",
      "conv2d_90 (Conv2D)              (None, 8, 8, 448)    917504      mixed9[0][0]                     \n",
      "__________________________________________________________________________________________________\n",
      "batch_normalization_90 (BatchNo (None, 8, 8, 448)    1344        conv2d_90[0][0]                  \n",
      "__________________________________________________________________________________________________\n",
      "activation_90 (Activation)      (None, 8, 8, 448)    0           batch_normalization_90[0][0]     \n",
      "__________________________________________________________________________________________________\n",
      "conv2d_87 (Conv2D)              (None, 8, 8, 384)    786432      mixed9[0][0]                     \n",
      "__________________________________________________________________________________________________\n",
      "conv2d_91 (Conv2D)              (None, 8, 8, 384)    1548288     activation_90[0][0]              \n",
      "__________________________________________________________________________________________________\n",
      "batch_normalization_87 (BatchNo (None, 8, 8, 384)    1152        conv2d_87[0][0]                  \n",
      "__________________________________________________________________________________________________\n",
      "batch_normalization_91 (BatchNo (None, 8, 8, 384)    1152        conv2d_91[0][0]                  \n",
      "__________________________________________________________________________________________________\n",
      "activation_87 (Activation)      (None, 8, 8, 384)    0           batch_normalization_87[0][0]     \n",
      "__________________________________________________________________________________________________\n",
      "activation_91 (Activation)      (None, 8, 8, 384)    0           batch_normalization_91[0][0]     \n",
      "__________________________________________________________________________________________________\n",
      "conv2d_88 (Conv2D)              (None, 8, 8, 384)    442368      activation_87[0][0]              \n",
      "__________________________________________________________________________________________________\n",
      "conv2d_89 (Conv2D)              (None, 8, 8, 384)    442368      activation_87[0][0]              \n",
      "__________________________________________________________________________________________________\n",
      "conv2d_92 (Conv2D)              (None, 8, 8, 384)    442368      activation_91[0][0]              \n",
      "__________________________________________________________________________________________________\n",
      "conv2d_93 (Conv2D)              (None, 8, 8, 384)    442368      activation_91[0][0]              \n",
      "__________________________________________________________________________________________________\n",
      "average_pooling2d_9 (AveragePoo (None, 8, 8, 2048)   0           mixed9[0][0]                     \n",
      "__________________________________________________________________________________________________\n",
      "conv2d_86 (Conv2D)              (None, 8, 8, 320)    655360      mixed9[0][0]                     \n",
      "__________________________________________________________________________________________________\n",
      "batch_normalization_88 (BatchNo (None, 8, 8, 384)    1152        conv2d_88[0][0]                  \n",
      "__________________________________________________________________________________________________\n",
      "batch_normalization_89 (BatchNo (None, 8, 8, 384)    1152        conv2d_89[0][0]                  \n",
      "__________________________________________________________________________________________________\n",
      "batch_normalization_92 (BatchNo (None, 8, 8, 384)    1152        conv2d_92[0][0]                  \n",
      "__________________________________________________________________________________________________\n",
      "batch_normalization_93 (BatchNo (None, 8, 8, 384)    1152        conv2d_93[0][0]                  \n",
      "__________________________________________________________________________________________________\n",
      "conv2d_94 (Conv2D)              (None, 8, 8, 192)    393216      average_pooling2d_9[0][0]        \n",
      "__________________________________________________________________________________________________\n",
      "batch_normalization_86 (BatchNo (None, 8, 8, 320)    960         conv2d_86[0][0]                  \n",
      "__________________________________________________________________________________________________\n",
      "activation_88 (Activation)      (None, 8, 8, 384)    0           batch_normalization_88[0][0]     \n",
      "__________________________________________________________________________________________________\n",
      "activation_89 (Activation)      (None, 8, 8, 384)    0           batch_normalization_89[0][0]     \n",
      "__________________________________________________________________________________________________\n",
      "activation_92 (Activation)      (None, 8, 8, 384)    0           batch_normalization_92[0][0]     \n",
      "__________________________________________________________________________________________________\n",
      "activation_93 (Activation)      (None, 8, 8, 384)    0           batch_normalization_93[0][0]     \n",
      "__________________________________________________________________________________________________\n",
      "batch_normalization_94 (BatchNo (None, 8, 8, 192)    576         conv2d_94[0][0]                  \n",
      "__________________________________________________________________________________________________\n",
      "activation_86 (Activation)      (None, 8, 8, 320)    0           batch_normalization_86[0][0]     \n",
      "__________________________________________________________________________________________________\n",
      "mixed9_1 (Concatenate)          (None, 8, 8, 768)    0           activation_88[0][0]              \n",
      "                                                                 activation_89[0][0]              \n",
      "__________________________________________________________________________________________________\n",
      "concatenate_2 (Concatenate)     (None, 8, 8, 768)    0           activation_92[0][0]              \n",
      "                                                                 activation_93[0][0]              \n",
      "__________________________________________________________________________________________________\n",
      "activation_94 (Activation)      (None, 8, 8, 192)    0           batch_normalization_94[0][0]     \n",
      "__________________________________________________________________________________________________\n",
      "mixed10 (Concatenate)           (None, 8, 8, 2048)   0           activation_86[0][0]              \n",
      "                                                                 mixed9_1[0][0]                   \n",
      "                                                                 concatenate_2[0][0]              \n",
      "                                                                 activation_94[0][0]              \n",
      "__________________________________________________________________________________________________\n",
      "avg_pool (GlobalAveragePooling2 (None, 2048)         0           mixed10[0][0]                    \n",
      "==================================================================================================\n",
      "Total params: 21,802,784\n",
      "Trainable params: 0\n",
      "Non-trainable params: 21,802,784\n",
      "__________________________________________________________________________________________________\n"
     ]
    }
   ],
   "source": [
    "pre_trained_incept_v3.summary()"
   ]
  },
  {
   "cell_type": "code",
   "execution_count": 35,
   "metadata": {
    "id": "F_mGHHUiZy8n"
   },
   "outputs": [],
   "source": [
    "msk = np.random.rand(len(image_att)) <= 0.8\n",
    "train_att = image_att[msk].reset_index(drop=True)\n",
    "val_att = image_att[~msk].reset_index(drop=True)"
   ]
  },
  {
   "cell_type": "code",
   "execution_count": 36,
   "metadata": {
    "colab": {
     "base_uri": "https://localhost:8080/"
    },
    "id": "3e74iE7YZ3XB",
    "outputId": "e3f56174-8e2a-4278-ddca-aeeda32df56b"
   },
   "outputs": [
    {
     "name": "stdout",
     "output_type": "stream",
     "text": [
      "(81, 6)\n",
      "(19, 6)\n"
     ]
    }
   ],
   "source": [
    "print(train_att.shape)\n",
    "print(val_att.shape)"
   ]
  },
  {
   "cell_type": "code",
   "execution_count": 37,
   "metadata": {
    "colab": {
     "base_uri": "https://localhost:8080/"
    },
    "id": "xbbDCbNkZ5gi",
    "outputId": "6896c4a0-bad6-45ba-f7f4-286074e8d26a"
   },
   "outputs": [
    {
     "name": "stdout",
     "output_type": "stream",
     "text": [
      "WARNING:tensorflow:From /tensorflow-1.15.2/python3.6/keras/backend/tensorflow_backend.py:422: The name tf.global_variables is deprecated. Please use tf.compat.v1.global_variables instead.\n",
      "\n"
     ]
    }
   ],
   "source": [
    "from keras.applications.inception_v3 import InceptionV3,preprocess_input\n",
    "from keras.layers import Dense,BatchNormalization,Dropout,Embedding,RepeatVector\n",
    "from keras.preprocessing.image import load_img, img_to_array\n",
    "import numpy as np\n",
    "\n",
    "TARGET_SIZE = (299,299) # needed to convert the image as per pre-trained inceptionv3 requirements\n",
    "\n",
    "img_feat_list = []\n",
    "for i in range(len(train_att)):\n",
    "    img = image_att['ApparelImage'][i]\n",
    "    img = np.stack((img,)*3, axis=-1) # creating gray scale to 3-channel image\n",
    "    # Converting image to array\n",
    "    img_array = img_to_array(img)\n",
    "    nimage = preprocess_input(img_array)\n",
    "    # Adding one more dimesion\n",
    "    nimage = np.expand_dims(nimage, axis=0)    \n",
    "    fea_vec = pre_trained_incept_v3.predict(nimage)\n",
    "    fea_vec = np.reshape(fea_vec, fea_vec.shape[1]) # reshape from (1, 2048) to (2048, )\n",
    "    img_feat_list+=[fea_vec]\n",
    "train_att['img_feat'] = img_feat_list"
   ]
  },
  {
   "cell_type": "code",
   "execution_count": 38,
   "metadata": {
    "colab": {
     "base_uri": "https://localhost:8080/"
    },
    "id": "nx0gzmlxZ7bX",
    "outputId": "d7d4dfef-2e4d-44a9-88cd-f838edb488cb"
   },
   "outputs": [
    {
     "data": {
      "text/plain": [
       "['mini (length)', 'symmetrical', 'a-line', 'cutout', 'floral', 'no waistline']"
      ]
     },
     "execution_count": 38,
     "metadata": {
      "tags": []
     },
     "output_type": "execute_result"
    }
   ],
   "source": [
    "train_att['AttributeType'][0]"
   ]
  },
  {
   "cell_type": "code",
   "execution_count": 39,
   "metadata": {
    "colab": {
     "base_uri": "https://localhost:8080/",
     "height": 449
    },
    "id": "Y6PFNWctZ9ZU",
    "outputId": "a408d97c-20a7-4eb1-99a8-f20cf692d55c"
   },
   "outputs": [
    {
     "name": "stdout",
     "output_type": "stream",
     "text": [
      "Total Apparel images:  81\n",
      "All atributes throughout apparel images:  678\n"
     ]
    },
    {
     "data": {
      "image/png": "[encoded data removed]",
      "text/plain": [
       "<Figure size 864x216 with 1 Axes>"
      ]
     },
     "metadata": {
      "needs_background": "light",
      "tags": []
     },
     "output_type": "display_data"
    },
    {
     "name": "stdout",
     "output_type": "stream",
     "text": [
      "Max. number of attributes: 11\n",
      "Feature vocab size: 48\n"
     ]
    }
   ],
   "source": [
    "from keras.preprocessing.text import Tokenizer\n",
    "# as we'll be building it as image captioning model, we need to add some fixed start and end attributes\"\n",
    "train_att['AttributeId'] = [[92]+x+[93] for x in train_att['AttributeId']]\n",
    "train_att['AttributeType'] = [['att_start']+x+['att_end'] for x in train_att['AttributeType']]\n",
    "\n",
    "total_train_att = np.concatenate(train_att['AttributeId'].values).astype(int)\n",
    "print(\"Total Apparel images: \", len(train_att))\n",
    "print(\"All atributes throughout apparel images: \", len(total_train_att))\n",
    "\n",
    "attribute_names+=['att_start','att_end']\n",
    "\n",
    "plt.figure(figsize=(12, 3))\n",
    "values, counts = np.unique(total_train_att, return_counts=True)\n",
    "plt.bar(values, counts)\n",
    "plt.xticks(values, [attribute_names[x] for x in values], rotation='vertical')\n",
    "plt.show()\n",
    "\n",
    "#currently, dropping apparel attributes with freq. < 10\n",
    "final_val = values[counts>=2]\n",
    "final_att = [attribute_names[x] for x in final_val]\n",
    "\n",
    "train_att['Final_att'] = [[x for x in z if x in final_att] for z in train_att['AttributeType']]\n",
    "\n",
    "max_no = max([len(x) for x in train_att['Final_att']])\n",
    "print('Max. number of attributes:', max_no)\n",
    "vocab_size = len(final_att) + 1\n",
    "print('Feature vocab size:', vocab_size)\n",
    "\n",
    "ixtoword = {}\n",
    "wordtoix = {}\n",
    "\n",
    "ix = 1\n",
    "for w in final_att:\n",
    "    wordtoix[w] = ix\n",
    "    ixtoword[ix] = w\n",
    "    ix += 1\n",
    "# token = Tokenizer(num_words=vocab_size)\n",
    "# token.fit_on_texts(final_att)"
   ]
  },
  {
   "cell_type": "code",
   "execution_count": 40,
   "metadata": {
    "id": "3A1Ef4nfaAZS"
   },
   "outputs": [],
   "source": [
    "ixtoword = {}\n",
    "wordtoix = {}\n",
    "ix = 1\n",
    "for w in final_att:\n",
    "    wordtoix[w] = ix\n",
    "    ixtoword[ix] = w\n",
    "    ix += 1"
   ]
  },
  {
   "cell_type": "code",
   "execution_count": 41,
   "metadata": {
    "colab": {
     "base_uri": "https://localhost:8080/"
    },
    "id": "n5Yo_C7saCWX",
    "outputId": "14b8f5f2-f4cc-499e-c404-de10a675f3f0"
   },
   "outputs": [
    {
     "data": {
      "text/plain": [
       "{'a-line': 21,\n",
       " 'above-the-hip (length)': 1,\n",
       " 'above-the-knee (length)': 5,\n",
       " 'abstract': 36,\n",
       " 'asymmetrical': 15,\n",
       " 'att_end': 47,\n",
       " 'att_start': 46,\n",
       " 'below the knee (length)': 7,\n",
       " 'dropped waistline': 41,\n",
       " 'empire waistline': 40,\n",
       " 'fit and flare': 17,\n",
       " 'floor (length)': 10,\n",
       " 'floral': 37,\n",
       " 'fly (opening)': 13,\n",
       " 'frayed': 29,\n",
       " 'gathering': 32,\n",
       " 'geometric': 38,\n",
       " 'high low': 24,\n",
       " 'high waist': 42,\n",
       " 'hip (length)': 2,\n",
       " 'knee (length)': 6,\n",
       " 'lining': 33,\n",
       " 'loose (fit)': 27,\n",
       " 'low waist': 44,\n",
       " 'maxi (length)': 9,\n",
       " 'micro (length)': 3,\n",
       " 'midi': 8,\n",
       " 'mini (length)': 4,\n",
       " 'no opening': 14,\n",
       " 'no special manufacturing technique': 34,\n",
       " 'no waistline': 45,\n",
       " 'normal waist': 43,\n",
       " 'pencil': 19,\n",
       " 'plain (pattern)': 35,\n",
       " 'pleat': 31,\n",
       " 'printed': 30,\n",
       " 'regular (fit)': 26,\n",
       " 'single breasted': 11,\n",
       " 'straight': 20,\n",
       " 'stripe': 39,\n",
       " 'symmetrical': 16,\n",
       " 'tent': 22,\n",
       " 'tight (fit)': 25,\n",
       " 'trumpet': 18,\n",
       " 'washed': 28,\n",
       " 'wide leg': 23,\n",
       " 'zip-up': 12}"
      ]
     },
     "execution_count": 41,
     "metadata": {
      "tags": []
     },
     "output_type": "execute_result"
    }
   ],
   "source": [
    "wordtoix"
   ]
  },
  {
   "cell_type": "code",
   "execution_count": 42,
   "metadata": {
    "colab": {
     "base_uri": "https://localhost:8080/",
     "height": 289
    },
    "id": "IBQckEDeaEvS",
    "outputId": "769c832c-de70-4ec7-b93b-845157a3609f"
   },
   "outputs": [
    {
     "data": {
      "text/html": [
       "<div>\n",
       "<style scoped>\n",
       "    .dataframe tbody tr th:only-of-type {\n",
       "        vertical-align: middle;\n",
       "    }\n",
       "\n",
       "    .dataframe tbody tr th {\n",
       "        vertical-align: top;\n",
       "    }\n",
       "\n",
       "    .dataframe thead th {\n",
       "        text-align: right;\n",
       "    }\n",
       "</style>\n",
       "<table border=\"1\" class=\"dataframe\">\n",
       "  <thead>\n",
       "    <tr style=\"text-align: right;\">\n",
       "      <th></th>\n",
       "      <th>ImageId</th>\n",
       "      <th>ApparelImage</th>\n",
       "      <th>ApparelId</th>\n",
       "      <th>ApparelClass</th>\n",
       "      <th>AttributeId</th>\n",
       "      <th>AttributeType</th>\n",
       "      <th>img_feat</th>\n",
       "      <th>Final_att</th>\n",
       "    </tr>\n",
       "  </thead>\n",
       "  <tbody>\n",
       "    <tr>\n",
       "      <th>0</th>\n",
       "      <td>000aac3870ea7c59ca0333ffa5327323.jpg</td>\n",
       "      <td>[[-1, -1, -1, -1, -1, -1, -1, -1, -1, -1, -1, ...</td>\n",
       "      <td>10</td>\n",
       "      <td>dress</td>\n",
       "      <td>[92, 3, 20, 34, 56, 69, 91, 93]</td>\n",
       "      <td>[att_start, mini (length), symmetrical, a-line...</td>\n",
       "      <td>[0.031386986, 0.20766734, 0.07411547, 0.418725...</td>\n",
       "      <td>[att_start, mini (length), symmetrical, a-line...</td>\n",
       "    </tr>\n",
       "    <tr>\n",
       "      <th>1</th>\n",
       "      <td>000aac3870ea7c59ca0333ffa5327323.jpg</td>\n",
       "      <td>[[-1, -1, -1, -1, -1, -1, -1, -1, -1, -1, -1, ...</td>\n",
       "      <td>3</td>\n",
       "      <td>cardigan</td>\n",
       "      <td>[92, 1, 10, 20, 41, 60, 61, 91, 93]</td>\n",
       "      <td>[att_start, hip (length), single breasted, sym...</td>\n",
       "      <td>[0.20307371, 0.5599885, 0.18413922, 0.58504814...</td>\n",
       "      <td>[att_start, hip (length), single breasted, sym...</td>\n",
       "    </tr>\n",
       "    <tr>\n",
       "      <th>2</th>\n",
       "      <td>000e973c99dc090afd7898c93daf0dbc.jpg</td>\n",
       "      <td>[[-1, -1, -1, -1, -1, -1, -1, -1, -1, -1, -1, ...</td>\n",
       "      <td>4</td>\n",
       "      <td>jacket</td>\n",
       "      <td>[92, 0, 20, 41, 60, 72, 88, 93]</td>\n",
       "      <td>[att_start, above-the-hip (length), symmetrica...</td>\n",
       "      <td>[0.2900308, 0.5768419, 0.15958971, 0.25654224,...</td>\n",
       "      <td>[att_start, above-the-hip (length), symmetrica...</td>\n",
       "    </tr>\n",
       "    <tr>\n",
       "      <th>3</th>\n",
       "      <td>000e973c99dc090afd7898c93daf0dbc.jpg</td>\n",
       "      <td>[[-1, -1, -1, -1, -1, -1, -1, -1, -1, -1, -1, ...</td>\n",
       "      <td>6</td>\n",
       "      <td>pants</td>\n",
       "      <td>[92, 8, 20, 39, 60, 70, 93]</td>\n",
       "      <td>[att_start, maxi (length), symmetrical, curved...</td>\n",
       "      <td>[0.22779231, 0.1395788, 0.17130038, 0.26675087...</td>\n",
       "      <td>[att_start, maxi (length), symmetrical, no spe...</td>\n",
       "    </tr>\n",
       "    <tr>\n",
       "      <th>4</th>\n",
       "      <td>000e973c99dc090afd7898c93daf0dbc.jpg</td>\n",
       "      <td>[[-1, -1, -1, -1, -1, -1, -1, -1, -1, -1, -1, ...</td>\n",
       "      <td>4</td>\n",
       "      <td>jacket</td>\n",
       "      <td>[92, 41, 61, 93]</td>\n",
       "      <td>[att_start, regular (fit), plain (pattern), at...</td>\n",
       "      <td>[0.20398211, 0.55236214, 0.22270958, 0.4849082...</td>\n",
       "      <td>[att_start, regular (fit), plain (pattern), at...</td>\n",
       "    </tr>\n",
       "  </tbody>\n",
       "</table>\n",
       "</div>"
      ],
      "text/plain": [
       "                                ImageId  ...                                          Final_att\n",
       "0  000aac3870ea7c59ca0333ffa5327323.jpg  ...  [att_start, mini (length), symmetrical, a-line...\n",
       "1  000aac3870ea7c59ca0333ffa5327323.jpg  ...  [att_start, hip (length), single breasted, sym...\n",
       "2  000e973c99dc090afd7898c93daf0dbc.jpg  ...  [att_start, above-the-hip (length), symmetrica...\n",
       "3  000e973c99dc090afd7898c93daf0dbc.jpg  ...  [att_start, maxi (length), symmetrical, no spe...\n",
       "4  000e973c99dc090afd7898c93daf0dbc.jpg  ...  [att_start, regular (fit), plain (pattern), at...\n",
       "\n",
       "[5 rows x 8 columns]"
      ]
     },
     "execution_count": 42,
     "metadata": {
      "tags": []
     },
     "output_type": "execute_result"
    }
   ],
   "source": [
    "train_att.head()"
   ]
  },
  {
   "cell_type": "markdown",
   "metadata": {
    "id": "1l6lVSQYaGpI"
   },
   "source": [
    "**Defining encoder-decoder model**"
   ]
  },
  {
   "cell_type": "code",
   "execution_count": 43,
   "metadata": {
    "colab": {
     "base_uri": "https://localhost:8080/"
    },
    "id": "1oY0A2OPaOKP",
    "outputId": "5da77805-9f07-4bc5-c422-849ef14ef9aa"
   },
   "outputs": [
    {
     "name": "stdout",
     "output_type": "stream",
     "text": [
      "WARNING:tensorflow:From /tensorflow-1.15.2/python3.6/tensorflow_core/python/keras/backend.py:3994: where (from tensorflow.python.ops.array_ops) is deprecated and will be removed in a future version.\n",
      "Instructions for updating:\n",
      "Use tf.where in 2.0, which has the same broadcast rule as np.where\n",
      "Epoch 1/1\n",
      "16/16 [==============================] - 20s 1s/step - loss: 3.4859\n",
      "Epoch 1/1\n",
      "16/16 [==============================] - 19s 1s/step - loss: 2.9908\n",
      "Epoch 1/1\n",
      "16/16 [==============================] - 19s 1s/step - loss: 2.6083\n",
      "Epoch 1/1\n",
      "16/16 [==============================] - 19s 1s/step - loss: 2.2898\n",
      "Epoch 1/1\n",
      "16/16 [==============================] - 19s 1s/step - loss: 2.0493\n",
      "Epoch 1/1\n",
      "16/16 [==============================] - 18s 1s/step - loss: 1.8123\n",
      "Epoch 1/1\n",
      "16/16 [==============================] - 19s 1s/step - loss: 1.6128\n",
      "Epoch 1/1\n",
      "16/16 [==============================] - 19s 1s/step - loss: 1.4179\n",
      "Epoch 1/1\n",
      "16/16 [==============================] - 19s 1s/step - loss: 1.2698\n",
      "Epoch 1/1\n",
      "16/16 [==============================] - 19s 1s/step - loss: 1.0912\n"
     ]
    }
   ],
   "source": [
    "from keras.models import Model,Input\n",
    "from keras.applications.inception_v3 import InceptionV3,preprocess_input\n",
    "from keras.layers import Embedding,Dense,BatchNormalization,Dropout,LSTM,add\n",
    "from keras.utils import plot_model\n",
    "\n",
    "from keras.preprocessing.sequence import pad_sequences\n",
    "from keras.utils.np_utils import to_categorical\n",
    "import numpy as np\n",
    "\n",
    "def combined_model(MAX_LENGTH,VOCAB_SIZE):\n",
    "    \"model parameters\"\n",
    "#    NPIX = 299 # required image shape for pre-trained inceptionnv3 model \n",
    "#    TARGET_SIZE = (NPIX,NPIX,3)\n",
    "    EMBEDDING_SIZE = 256 #\n",
    "    \n",
    "    # partial caption sequence model    \n",
    "    inputs2 = Input(shape=(MAX_LENGTH,))\n",
    "    se1 = Embedding(VOCAB_SIZE, EMBEDDING_SIZE, mask_zero=True)(inputs2)\n",
    "    se2 = Dropout(0.5)(se1)\n",
    "    se3 = LSTM(EMBEDDING_SIZE)(se2) \n",
    "    \n",
    "    \n",
    "    # image feature extractor model\n",
    "    inputs1 = Input(shape=(2048,)) # iceptionnv3\n",
    "    fe1 = Dropout(0.5)(inputs1)\n",
    "    fe2 = Dense(EMBEDDING_SIZE, activation='relu')(fe1)\n",
    "    \n",
    "    \n",
    "    \n",
    "    decoder1 = add([fe2, se3])\n",
    "    decoder2 = Dense(EMBEDDING_SIZE, activation='relu')(decoder1) \n",
    "    #decoder2 = Dense(50, activation='relu')(decoder1) \n",
    "    outputs = Dense(VOCAB_SIZE, activation='softmax')(decoder2)\n",
    "    \n",
    "    \n",
    "    # merge the two input models\n",
    "    # image_feature + partial caption ===> output\n",
    "    model = Model(inputs=[inputs1, inputs2], outputs=outputs) \n",
    "    \n",
    "    # setting wight of embedded matrix that we saved earlier for words\n",
    "#     with open(\"embedding_matrix.pkl\",\"rb\") as f:\n",
    "#         embedding_matrix = load(f)   \n",
    "#     model.layers[2].set_weights([embedding_matrix])\n",
    "#     model.layers[2].trainable = False\n",
    "    model.compile(loss='categorical_crossentropy', optimizer='adam')\n",
    "\n",
    "    return model\n",
    "\n",
    "def data_generator(train_att, MAX_LENGTH,VOCAB_SIZE, num_photos_per_batch):\n",
    "    X1, X2, y = list(), list(), list()\n",
    "    n=0\n",
    "    for i in range(len(train_att)):\n",
    "        n+=1\n",
    "        photo = train_att['img_feat'][i]\n",
    "        att_list = list(train_att['Final_att'][i])\n",
    "        \n",
    "        seq = [wordtoix[x] for x in att_list]\n",
    "        for i in range(1,len(seq)):\n",
    "            in_seq , op_seq = seq[:i],seq[i]\n",
    "            #converting input sequence to fix length\n",
    "            in_seq = pad_sequences([in_seq],maxlen=MAX_LENGTH,padding=\"post\")[0]\n",
    "            # converting op_seq to vocabulary size\n",
    "#                    print(op_seq)\n",
    "            op_seq = to_categorical([op_seq],num_classes=VOCAB_SIZE)[0]\n",
    "#                    try:\n",
    "#                        op_seq = to_categorical([op_seq],num_classes=VOCAB_SIZE)[0]\n",
    "#                    except:\n",
    "#                        op_seq = np.array([0]*VOCAB_SIZE)\n",
    "            X1.append(photo)\n",
    "            X2.append(in_seq)\n",
    "            y.append(op_seq)\n",
    "        # yield the batch data\n",
    "        if n==num_photos_per_batch:\n",
    "            yield [[np.array(X1), np.array(X2)], np.array(y)]\n",
    "            X1, X2, y = list(), list(), list()\n",
    "            n=0\n",
    "\n",
    "max_length = 200\n",
    "# image feature extracted file\n",
    "train_image_extracted = train_att['img_feat']\n",
    "\n",
    "#\"load train attributes\n",
    "train_descriptions = train_att['Final_att']\n",
    "\n",
    "\n",
    "model = combined_model(max_length, vocab_size) #\n",
    "\n",
    "epochs = 10\n",
    "\n",
    "\n",
    "len(train_descriptions)\n",
    "\n",
    "\n",
    "for i in range(epochs):\n",
    "    batch_size = number_pics_per_batch = 5\n",
    "    steps = len(train_descriptions)//number_pics_per_batch\n",
    "    generator = data_generator(train_att,max_length, vocab_size,number_pics_per_batch)\n",
    "    model.fit_generator(generator, epochs=1, steps_per_epoch=steps, verbose=1)\n",
    "\n",
    "att_prediction_model = model"
   ]
  },
  {
   "cell_type": "code",
   "execution_count": 71,
   "metadata": {
    "id": "IzAKsNIGoE7Z"
   },
   "outputs": [],
   "source": [
    "def new_make_mask(img):\n",
    "    H = img.shape[0]\n",
    "    W = img.shape[1]\n",
    "    # 1d mask \n",
    "    mask = np.full(H*W,dtype='int',fill_value = -1)\n",
    "    mask = mask.reshape(W,H).T\n",
    "#    black = np.array([0,0,0])\n",
    "    # print(type(black))\n",
    "    # print(type(img[0][0][0]))\n",
    "    # print()\n",
    "#    for row in range(H):\n",
    "#    for colm in range(W):\n",
    "#    \t\tif not np.allclose(black,img[row][colm]):\n",
    "#    \t\t\tmask[row][colm] = 10\n",
    "#    \n",
    "\n",
    "    indices_list = np.where(np.any(img != 0, axis = -1))\n",
    "    mask[indices_list] = 10 \n",
    "    mask = cv2.resize(mask, (299, 299), interpolation=cv2.INTER_NEAREST)\n",
    "    plt.imshow(mask)\n",
    "    return mask"
   ]
  },
  {
   "cell_type": "code",
   "execution_count": 70,
   "metadata": {
    "colab": {
     "base_uri": "https://localhost:8080/",
     "height": 388
    },
    "id": "ryq8ASbcKcMP",
    "outputId": "5a762dce-964c-47ee-b19b-fec698f643dc"
   },
   "outputs": [
    {
     "data": {
      "text/plain": [
       "array([[-1, -1, -1, ..., -1, -1, -1],\n",
       "       [-1, -1, -1, ..., -1, -1, -1],\n",
       "       [-1, -1, -1, ..., -1, -1, -1],\n",
       "       ...,\n",
       "       [-1, -1, -1, ..., -1, -1, -1],\n",
       "       [-1, -1, -1, ..., -1, -1, -1],\n",
       "       [-1, -1, -1, ..., -1, -1, -1]])"
      ]
     },
     "execution_count": 70,
     "metadata": {
      "tags": []
     },
     "output_type": "execute_result"
    },
    {
     "data": {
      "image/png": "[encoded data removed]",
      "text/plain": [
       "<Figure size 432x288 with 1 Axes>"
      ]
     },
     "metadata": {
      "needs_background": "light",
      "tags": []
     },
     "output_type": "display_data"
    }
   ],
   "source": [
    "img = cv2.imread(\"/content/drive/My Drive/grabcutt/2020031900h41m08s.jpg.png\")\n",
    "new_make_mask(img)"
   ]
  },
  {
   "cell_type": "code",
   "execution_count": 51,
   "metadata": {
    "colab": {
     "base_uri": "https://localhost:8080/",
     "height": 347
    },
    "id": "3JFTzRthaSE1",
    "outputId": "101a3d58-a0a4-4824-9a94-224a61c64995"
   },
   "outputs": [
    {
     "name": "stdout",
     "output_type": "stream",
     "text": [
      "0\n",
      "[0.13465719 0.337553   0.0214596  ... 0.03034895 0.41225627 0.03826849]\n",
      "['symmetrical', 'fit and flare', 'plain (pattern)', 'high waist']\n"
     ]
    },
    {
     "data": {
      "image/png": "[encoded data removed]",
      "text/plain": [
       "<Figure size 432x288 with 1 Axes>"
      ]
     },
     "metadata": {
      "needs_background": "light",
      "tags": []
     },
     "output_type": "display_data"
    }
   ],
   "source": [
    "\n",
    "# extract features from each photo in the directory\n",
    "def extract_features(img):\n",
    "    img = np.stack((img,)*3, axis=-1) # creating gray scale to 3-channel image\n",
    "    # Converting image to array\n",
    "    img_array = img_to_array(img)\n",
    "    nimage = preprocess_input(img_array)\n",
    "    # Adding one more dimesion\n",
    "    nimage = np.expand_dims(nimage, axis=0)    \n",
    "    fea_vec = pre_trained_incept_v3.predict(nimage)\n",
    "    fea_vec = np.reshape(fea_vec, fea_vec.shape[1]) # reshape from (1, 2048) to (2048, )\n",
    "    print(fea_vec)\n",
    "    return fea_vec\n",
    "\n",
    "\n",
    "# generate a description for an image\n",
    "def generate_desc(model, photo, max_length):\n",
    "    # seed the generation process\n",
    "    sequence = ['att_start']\n",
    "    photo = photo.reshape(1,2048)\n",
    "\n",
    "    # iterate over the whole length of the sequence\n",
    "    for i in range(max_length):\n",
    "        # integer encode input sequence\n",
    "        seq = [wordtoix[x] for x in sequence]\n",
    "        # pad input\n",
    "        seq1 = pad_sequences([seq], maxlen=max_length)\n",
    "        # predict next word\n",
    "        yhat = model.predict([photo,seq1], verbose=0)\n",
    "        # convert probability to integer\n",
    "        yhat = np.argmax(yhat)\n",
    "        # map integer to word\n",
    "        word = ixtoword[yhat]\n",
    "        # stop if we cannot map the word\n",
    "        if word is None:\n",
    "            break\n",
    "        # append as input for generating the next word\n",
    "        sequence+=[word]\n",
    "        # stop if we predict the end of the sequence\n",
    "        if word == 'att_end':\n",
    "            break\n",
    "    return sequence\n",
    "        \n",
    " \n",
    "\n",
    "\"prediction on new images\"\n",
    "val_att = train_att.copy()\n",
    "\n",
    "\n"
   ]
  },
  {
   "cell_type": "code",
   "execution_count": 52,
   "metadata": {
    "colab": {
     "base_uri": "https://localhost:8080/"
    },
    "id": "xTH-b82P-85f",
    "outputId": "507a44d2-728b-4bc2-abc0-0891ac1b080c"
   },
   "outputs": [
    {
     "name": "stdout",
     "output_type": "stream",
     "text": [
      "['2020031900h41m08s.jpg.png', '2020031918h58m24s.jpg.png', '2020032001h02m42s.jpg.png', '2020093016h48m18s.jpg.png', '2020093017h16m02s.jpg.png', '2020093018h00m13s.jpg.png', '2020093021h39m49s.jpg.png', '2020100107h22m02s.jpg.png', '2020100113h53m29s.jpg.png', '2020100114h43m03s.jpg.png', '2020100115h49m17s.jpg.png', '2020100116h33m09s.jpg.png', '2020100116h42m54s.jpg.png', '2020100116h43m38s.jpg.png', '2020100117h12m02s.jpg.png', '2020100119h32m55s.jpg.png', '2020100121h44m03s.jpg.png', '2020100200h00m49s.jpg.png', '2020100205h32m11s.jpg.png', '2020100214h25m32s.jpg.png', '2020100215h30m20s.jpg.png', '2020100215h45m03s.jpg.png']\n"
     ]
    }
   ],
   "source": [
    "masked_images = os.listdir(\"/content/drive/My Drive/grabcutt\")\n",
    "print(masked_images)"
   ]
  },
  {
   "cell_type": "code",
   "execution_count": 53,
   "metadata": {
    "colab": {
     "base_uri": "https://localhost:8080/"
    },
    "id": "oMfprdJtBix5",
    "outputId": "de4d10df-cab7-4f13-c568-779fb118c5ea"
   },
   "outputs": [
    {
     "name": "stdout",
     "output_type": "stream",
     "text": [
      "2020031900h41m08s.jpg.png  2020100113h53m29s.jpg.png  2020100121h44m03s.jpg.png\n",
      "2020031918h58m24s.jpg.png  2020100114h43m03s.jpg.png  2020100200h00m49s.jpg.png\n",
      "2020032001h02m42s.jpg.png  2020100115h49m17s.jpg.png  2020100205h32m11s.jpg.png\n",
      "2020093016h48m18s.jpg.png  2020100116h33m09s.jpg.png  2020100214h25m32s.jpg.png\n",
      "2020093017h16m02s.jpg.png  2020100116h42m54s.jpg.png  2020100215h30m20s.jpg.png\n",
      "2020093018h00m13s.jpg.png  2020100116h43m38s.jpg.png  2020100215h45m03s.jpg.png\n",
      "2020093021h39m49s.jpg.png  2020100117h12m02s.jpg.png\n",
      "2020100107h22m02s.jpg.png  2020100119h32m55s.jpg.png\n"
     ]
    }
   ],
   "source": [
    "os.chdir(\"/content/drive/My Drive/grabcutt\")\n",
    "!ls"
   ]
  },
  {
   "cell_type": "code",
   "execution_count": 62,
   "metadata": {
    "id": "johUK0f3HdNm"
   },
   "outputs": [],
   "source": [
    "def get_image_id(mask):\n",
    "  id = mask[0:8]\n",
    "  id = id + \" \"\n",
    "  id = id + mask[8:-4]\n",
    "  return id"
   ]
  },
  {
   "cell_type": "code",
   "execution_count": 64,
   "metadata": {
    "colab": {
     "base_uri": "https://localhost:8080/"
    },
    "id": "87A5F_BiH19D",
    "outputId": "5f5efcb3-0cbc-4a5b-bfca-7ac1d6f0b411"
   },
   "outputs": [
    {
     "name": "stdout",
     "output_type": "stream",
     "text": [
      "20200930 17h16m02s.jpg\n"
     ]
    }
   ],
   "source": [
    "print(get_image_id(\"2020093017h16m02s.jpg.png\"))"
   ]
  },
  {
   "cell_type": "markdown",
   "metadata": {
    "id": "YJjtU79xNWhr"
   },
   "source": [
    "***FINAL ATTRIBUTES***"
   ]
  },
  {
   "cell_type": "code",
   "execution_count": 76,
   "metadata": {
    "colab": {
     "base_uri": "https://localhost:8080/",
     "height": 1000
    },
    "id": "uoLqO7np-6BR",
    "outputId": "a5f8a925-ae29-4251-89d7-842801e757ff"
   },
   "outputs": [
    {
     "name": "stdout",
     "output_type": "stream",
     "text": [
      "2020031900h41m08s.jpg.png\n",
      "[0.13465719 0.337553   0.0214596  ... 0.03034895 0.41225627 0.03826849]\n",
      "['symmetrical', 'fit and flare', 'plain (pattern)', 'high waist']\n",
      "2020031918h58m24s.jpg.png\n",
      "[0.38252935 0.10301299 0.06611501 ... 0.03521983 0.2266797  0.34011972]\n",
      "['zip-up', 'symmetrical', 'straight', 'straight', 'no special manufacturing technique', 'plain (pattern)', 'high waist']\n",
      "2020032001h02m42s.jpg.png\n",
      "[0.34990215 0.1198087  0.05816548 ... 0.21393925 0.7015911  0.05138206]\n",
      "['symmetrical', 'tight (fit)', 'plain (pattern)', 'no waistline']\n",
      "2020093016h48m18s.jpg.png\n",
      "[0.11844368 0.14892921 0.03285567 ... 0.3881497  0.03223615 0.28551486]\n",
      "['micro (length)', 'symmetrical', 'regular (fit)', 'no special manufacturing technique', 'plain (pattern)', 'no waistline']\n",
      "2020093017h16m02s.jpg.png\n",
      "[0.62537694 0.07688469 0.31429365 ... 0.00374618 0.04391559 0.09486891]\n",
      "['symmetrical', 'straight', 'no special manufacturing technique', 'plain (pattern)', 'high waist']\n",
      "2020093018h00m13s.jpg.png\n",
      "[0.6770177  0.1803571  0.1846341  ... 0.15312198 0.2422932  0.1695961 ]\n",
      "['zip-up', 'symmetrical', 'straight', 'regular (fit)', 'plain (pattern)', 'plain (pattern)']\n",
      "2020093021h39m49s.jpg.png\n",
      "[0.4240479  0.21349666 0.02186432 ... 0.3648304  0.03565791 0.01914325]\n",
      "['maxi (length)', 'symmetrical', 'tight (fit)', 'no special manufacturing technique', 'plain (pattern)']\n",
      "2020100107h22m02s.jpg.png\n",
      "[0.58216435 0.14645867 0.07613186 ... 0.61117476 0.4077611  0.01871926]\n",
      "['zip-up', 'symmetrical', 'straight', 'gathering', 'plain (pattern)', 'high waist']\n",
      "2020100113h53m29s.jpg.png\n",
      "[0.15097642 0.23480006 0.07660627 ... 0.04452312 0.11072826 0.14353934]\n",
      "['above-the-hip (length)', 'symmetrical', 'regular (fit)', 'no special manufacturing technique', 'plain (pattern)', 'high waist']\n",
      "2020100114h43m03s.jpg.png\n",
      "[0.20448126 0.2917556  0.12565409 ... 0.15587918 0.56886435 0.48137292]\n",
      "['symmetrical', 'tight (fit)', 'no special manufacturing technique', 'plain (pattern)']\n",
      "2020100115h49m17s.jpg.png\n",
      "[2.1232505e-01 1.3575965e-01 1.2889729e-01 ... 1.8590498e-04 9.8485142e-02\n",
      " 1.3006762e-01]\n",
      "['zip-up', 'symmetrical', 'regular (fit)', 'gathering', 'plain (pattern)', 'high waist']\n",
      "2020100116h33m09s.jpg.png\n",
      "[0.12713364 0.24272567 0.11551742 ... 0.067877   0.27193955 0.        ]\n",
      "['symmetrical', 'regular (fit)', 'no special manufacturing technique', 'plain (pattern)', 'high waist']\n",
      "2020100116h42m54s.jpg.png\n",
      "[0.4564171  0.16652386 0.06926459 ... 0.2096807  0.15168072 0.05187835]\n",
      "['zip-up', 'symmetrical', 'tight (fit)', 'no special manufacturing technique', 'plain (pattern)', 'high waist']\n",
      "2020100116h43m38s.jpg.png\n",
      "[0.19024794 0.2762144  0.05710086 ... 0.25991556 0.19963385 0.00270694]\n",
      "['symmetrical', 'regular (fit)', 'plain (pattern)']\n",
      "2020100117h12m02s.jpg.png\n",
      "[0.13233988 0.07385077 0.04948704 ... 0.         0.27558142 0.02737539]\n",
      "['symmetrical', 'straight', 'no special manufacturing technique', 'plain (pattern)', 'high waist']\n",
      "2020100119h32m55s.jpg.png\n",
      "[0.15538178 0.0616355  0.06895816 ... 0.2585232  0.21724942 0.00056521]\n",
      "['zip-up', 'symmetrical', 'regular (fit)', 'gathering', 'plain (pattern)', 'high waist']\n",
      "2020100121h44m03s.jpg.png\n",
      "[0.26296353 0.04578942 0.04833978 ... 0.02996032 0.32529712 0.00249025]\n",
      "['zip-up', 'zip-up', 'symmetrical', 'straight', 'gathering', 'gathering', 'plain (pattern)', 'high waist']\n",
      "2020100200h00m49s.jpg.png\n",
      "[0.2859362  0.26390988 0.072585   ... 0.10878339 0.40807804 0.18524857]\n",
      "['mini (length)', 'symmetrical', 'tight (fit)', 'no special manufacturing technique', 'plain (pattern)', 'high waist']\n",
      "2020100205h32m11s.jpg.png\n",
      "[0.15419285 0.6511074  0.1439478  ... 0.03519574 0.305102   0.        ]\n",
      "['zip-up', 'symmetrical', 'fit and flare', 'plain (pattern)', 'plain (pattern)', 'high waist']\n",
      "2020100214h25m32s.jpg.png\n",
      "[0.07083522 0.01803586 0.15575147 ... 0.00242879 0.01110101 0.17512222]\n",
      "['zip-up', 'symmetrical', 'tight (fit)', 'no special manufacturing technique', 'plain (pattern)', 'high waist']\n",
      "2020100215h30m20s.jpg.png\n",
      "[0.5128157  0.06431478 0.1539443  ... 0.10584654 0.01647333 0.00063921]\n",
      "['zip-up', 'symmetrical', 'straight', 'gathering', 'plain (pattern)', 'high waist']\n",
      "2020100215h45m03s.jpg.png\n",
      "[0.32622498 0.16740267 0.05618426 ... 0.33517867 0.6724078  0.07350826]\n",
      "['zip-up', 'symmetrical', 'regular (fit)', 'regular (fit)', 'plain (pattern)', 'normal waist']\n"
     ]
    },
    {
     "data": {
      "image/png": "[encoded data removed]",
      "text/plain": [
       "<Figure size 432x288 with 1 Axes>"
      ]
     },
     "metadata": {
      "needs_background": "light",
      "tags": []
     },
     "output_type": "display_data"
    }
   ],
   "source": [
    "att_list = []\n",
    "img_id = []\n",
    "for mask in masked_images:\n",
    "\n",
    "    temp = []\n",
    "    temp.append(get_image_id(mask))\n",
    "    img_id.append(temp)\n",
    "    f1 = cv2.imread(mask)\n",
    "    img = new_make_mask(f1)\n",
    "    plt.imshow(img)\n",
    "    photo = extract_features(img)\n",
    "    description = generate_desc(att_prediction_model, photo, max_length)\n",
    "    pred_att = [x for x in description if x not in ['att_start', 'att_end']]\n",
    "    print(pred_att)\n",
    "    att_list.append(pred_att)\n",
    "    plt.title('pred. apparel attributes:\\n'+'; '.join(pred_att))"
   ]
  },
  {
   "cell_type": "markdown",
   "metadata": {
    "id": "M2bN15l3NcD4"
   },
   "source": [
    "***SAVE IN CSV***"
   ]
  },
  {
   "cell_type": "code",
   "execution_count": 79,
   "metadata": {
    "colab": {
     "base_uri": "https://localhost:8080/"
    },
    "id": "alkUXLjnFbRJ",
    "outputId": "4ab015d0-01c0-468f-d494-5fc40ca9ef4d"
   },
   "outputs": [
    {
     "name": "stdout",
     "output_type": "stream",
     "text": [
      "[['symmetrical', 'fit and flare', 'plain (pattern)', 'high waist'], ['zip-up', 'symmetrical', 'straight', 'straight', 'no special manufacturing technique', 'plain (pattern)', 'high waist'], ['symmetrical', 'tight (fit)', 'plain (pattern)', 'no waistline'], ['micro (length)', 'symmetrical', 'regular (fit)', 'no special manufacturing technique', 'plain (pattern)', 'no waistline'], ['symmetrical', 'straight', 'no special manufacturing technique', 'plain (pattern)', 'high waist'], ['zip-up', 'symmetrical', 'straight', 'regular (fit)', 'plain (pattern)', 'plain (pattern)'], ['maxi (length)', 'symmetrical', 'tight (fit)', 'no special manufacturing technique', 'plain (pattern)'], ['zip-up', 'symmetrical', 'straight', 'gathering', 'plain (pattern)', 'high waist'], ['above-the-hip (length)', 'symmetrical', 'regular (fit)', 'no special manufacturing technique', 'plain (pattern)', 'high waist'], ['symmetrical', 'tight (fit)', 'no special manufacturing technique', 'plain (pattern)'], ['zip-up', 'symmetrical', 'regular (fit)', 'gathering', 'plain (pattern)', 'high waist'], ['symmetrical', 'regular (fit)', 'no special manufacturing technique', 'plain (pattern)', 'high waist'], ['zip-up', 'symmetrical', 'tight (fit)', 'no special manufacturing technique', 'plain (pattern)', 'high waist'], ['symmetrical', 'regular (fit)', 'plain (pattern)'], ['symmetrical', 'straight', 'no special manufacturing technique', 'plain (pattern)', 'high waist'], ['zip-up', 'symmetrical', 'regular (fit)', 'gathering', 'plain (pattern)', 'high waist'], ['zip-up', 'zip-up', 'symmetrical', 'straight', 'gathering', 'gathering', 'plain (pattern)', 'high waist'], ['mini (length)', 'symmetrical', 'tight (fit)', 'no special manufacturing technique', 'plain (pattern)', 'high waist'], ['zip-up', 'symmetrical', 'fit and flare', 'plain (pattern)', 'plain (pattern)', 'high waist'], ['zip-up', 'symmetrical', 'tight (fit)', 'no special manufacturing technique', 'plain (pattern)', 'high waist'], ['zip-up', 'symmetrical', 'straight', 'gathering', 'plain (pattern)', 'high waist'], ['zip-up', 'symmetrical', 'regular (fit)', 'regular (fit)', 'plain (pattern)', 'normal waist']]\n",
      "[['20200319 00h41m08s.jpg'], ['20200319 18h58m24s.jpg'], ['20200320 01h02m42s.jpg'], ['20200930 16h48m18s.jpg'], ['20200930 17h16m02s.jpg'], ['20200930 18h00m13s.jpg'], ['20200930 21h39m49s.jpg'], ['20201001 07h22m02s.jpg'], ['20201001 13h53m29s.jpg'], ['20201001 14h43m03s.jpg'], ['20201001 15h49m17s.jpg'], ['20201001 16h33m09s.jpg'], ['20201001 16h42m54s.jpg'], ['20201001 16h43m38s.jpg'], ['20201001 17h12m02s.jpg'], ['20201001 19h32m55s.jpg'], ['20201001 21h44m03s.jpg'], ['20201002 00h00m49s.jpg'], ['20201002 05h32m11s.jpg'], ['20201002 14h25m32s.jpg'], ['20201002 15h30m20s.jpg'], ['20201002 15h45m03s.jpg']]\n"
     ]
    }
   ],
   "source": [
    "print(att_list)\n",
    "import csv\n",
    "with open(\"attributes.csv\", \"w\", newline=\"\") as f:\n",
    "   writer = csv.writer(f)\n",
    "   writer.writerows(att_list)\n",
    "\n",
    "print(img_id)\n",
    "with open(\"img_id.csv\", \"w\", newline=\"\") as f:\n",
    "   writer = csv.writer(f)\n",
    "   writer.writerows(img_id)"
   ]
  },
  {
   "cell_type": "code",
   "execution_count": 80,
   "metadata": {
    "id": "mlfe5HCxaZkd"
   },
   "outputs": [],
   "source": [
    "def random_colors(N):\n",
    "    np.random.seed(1) # to make sure colors are consistent everytime\n",
    "    colors = [tuple(255 * np.random.rand(3)) for _ in range(N)]\n",
    "    return colors"
   ]
  },
  {
   "cell_type": "code",
   "execution_count": 81,
   "metadata": {
    "id": "3w_PBKx6ai56"
   },
   "outputs": [],
   "source": [
    "def apply_mask(image, mask, color, alpha=0.5):\n",
    "    \"\"\"apply mask to image\"\"\"\n",
    "    for n, c in enumerate(color):\n",
    "        image[:, :, n] = np.where(\n",
    "            mask == 255,\n",
    "            150,\n",
    "            image[:, :, n]\n",
    "        )\n",
    "#     image[mask==255] = (0,0,255)\n",
    "    return image"
   ]
  },
  {
   "cell_type": "code",
   "execution_count": null,
   "metadata": {
    "id": "6JIGbUa8ala6"
   },
   "outputs": [],
   "source": [
    "def display_instances(image, mask):\n",
    "    \"\"\"\n",
    "        take the image and results and apply the mask, box, and Label\n",
    "    \"\"\"\n",
    "#     n_instances = boxes.shape[0]\n",
    "    colors = random_colors(3)\n",
    "\n",
    "#     if not n_instances:\n",
    "#         print('NO INSTANCES TO DISPLAY')\n",
    "#     else:\n",
    "#         assert boxes.shape[0] == masks.shape[-1] == ids.shape[0]\n",
    "\n",
    "    for i, color in enumerate(colors):\n",
    "#         if not np.any(boxes[i]):\n",
    "#             continue\n",
    "\n",
    "#         y1, x1, y2, x2 = boxes[i]\n",
    "#         label = names[ids[i]]\n",
    "#         score = scores[i] if scores is not None else None\n",
    "#         caption = '{} {:.2f}'.format(label, score) if score else label\n",
    "#         mask = masks[:, :, i]\n",
    "#         masks = np.zeros((img.shape[0], img.shape[1], r['masks'].shape[-1]), dtype=np.uint8)\n",
    "#             for m in range(r['masks'].shape[-1]):\n",
    "        mask = cv2.resize(mask.astype('uint8'),(image.shape[1], image.shape[0]), interpolation=cv2.INTER_NEAREST)\n",
    "        plt.imshow(mask)\n",
    "#         for row in mask:\n",
    "#             for colm in row:\n",
    "#                 if colm is not 255:\n",
    "#                     print(colm)\n",
    "#         print(image)\n",
    "        image = apply_mask(image, mask, color)\n",
    "#         image = cv2.rectangle(image, (x1, y1), (x2, y2), color, 2)\n",
    "#         image = cv2.putText(\n",
    "#             image, caption, (x1, y1), cv2.FONT_HERSHEY_COMPLEX, 0.7, color, 2\n",
    "#         )\n",
    "\n",
    "    return image"
   ]
  },
  {
   "cell_type": "code",
   "execution_count": null,
   "metadata": {
    "id": "nujZ-D3IaoD9"
   },
   "outputs": [],
   "source": []
  },
  {
   "cell_type": "markdown",
   "metadata": {
    "id": "ZY86-oACawFw"
   },
   "source": [
    "**COLOR DETECTION**"
   ]
  },
  {
   "cell_type": "code",
   "execution_count": 196,
   "metadata": {
    "id": "igxyGtY2a0fB"
   },
   "outputs": [],
   "source": [
    "from sklearn.cluster import KMeans\n",
    "import matplotlib.pyplot as plt\n",
    "import numpy as np\n",
    "import cv2\n",
    "from collections import Counter\n",
    "from skimage.color import rgb2lab, deltaE_cie76\n",
    "import os\n",
    "import webcolors\n",
    "\n",
    "def RGB2HEX(color):\n",
    "    return \"#{:02x}{:02x}{:02x}\".format(int(color[0]), int(color[1]), int(color[2]))\n",
    "\n",
    "def get_image(image_path):\n",
    "    image = cv2.imread(image_path)\n",
    "    image = cv2.cvtColor(image, cv2.COLOR_BGR2RGB)\n",
    "    return image\n",
    "\n",
    "def get_colors(image, number_of_colors, show_chart):\n",
    "    \n",
    "    modified_image = cv2.resize(image, (600, 400), interpolation = cv2.INTER_AREA)\n",
    "    modified_image = modified_image.reshape(modified_image.shape[0]*modified_image.shape[1], 3)\n",
    "    \n",
    "    clf = KMeans(n_clusters = number_of_colors)\n",
    "    labels = clf.fit_predict(modified_image)\n",
    "    \n",
    "    counts = Counter(labels)\n",
    "    # sort to ensure correct color percentage\n",
    "    counts = dict(sorted(counts.items()))\n",
    "    \n",
    "    counts_new = [i for i in range(0, len(counts)-1)]\n",
    "    center_colors = clf.cluster_centers_\n",
    "    # We get ordered colors by iterating through the keys\n",
    "    ordered_colors = [center_colors[i] for i in counts.keys()]\n",
    "    hex_colors = [RGB2HEX(ordered_colors[i]) for i in counts.keys()]\n",
    "    rgb_colors = [ordered_colors[i].tolist() for i in counts.keys()]\n",
    "    hex_colors.pop(0)\n",
    "    rgb_colors.pop(0)\n",
    "    if (show_chart):\n",
    "        plt.figure(figsize = (8, 6))\n",
    "        plt.pie(counts_new, labels = hex_colors, colors = hex_colors)\n",
    "    \n",
    "    return rgb_colors\n",
    "\n",
    "def closest_colour(requested_colour):\n",
    "    min_colours = {}\n",
    "    color_dict = webcolors.CSS2_NAMES_TO_HEX\n",
    "    color_dict['brown'] = '#a52a2a'\n",
    "    color_dict['pink'] = '#dda0dd'\n",
    "    for name, key in webcolors.CSS2_NAMES_TO_HEX.items():\n",
    "        r_c, g_c, b_c = webcolors.hex_to_rgb(key)\n",
    "        rd = (r_c - requested_colour[0]) ** 2\n",
    "        gd = (g_c - requested_colour[1]) ** 2\n",
    "        bd = (b_c - requested_colour[2]) ** 2\n",
    "        min_colours[(rd + gd + bd)] = name\n",
    "    return min_colours[min(min_colours.keys())]\n",
    "\n",
    "def get_colour_name(requested_colour):\n",
    "    try:\n",
    "        closest_name = actual_name = webcolors.rgb_to_name(requested_colour)\n",
    "    except ValueError:\n",
    "        closest_name = closest_colour(requested_colour)\n",
    "        actual_name = None\n",
    "    return actual_name, closest_name\n"
   ]
  },
  {
   "cell_type": "code",
   "execution_count": 205,
   "metadata": {
    "colab": {
     "base_uri": "https://localhost:8080/"
    },
    "id": "f_1negX_JZ9R",
    "outputId": "8dc55a14-48ff-45d1-e551-45f3cbab43d8"
   },
   "outputs": [
    {
     "name": "stdout",
     "output_type": "stream",
     "text": [
      "['aqua', 'black', 'blue', 'fuchsia', 'green', 'gray', 'lime', 'maroon', 'navy', 'olive', 'purple', 'red', 'silver', 'teal', 'white', 'yellow', 'brown', 'pink', 'pale_violet_red', 'plum']\n"
     ]
    }
   ],
   "source": [
    "colors = []\n",
    "for name, key in webcolors.CSS2_NAMES_TO_HEX.items():\n",
    "  colors.append(name)\n",
    "print(colors)"
   ]
  },
  {
   "cell_type": "code",
   "execution_count": 197,
   "metadata": {
    "colab": {
     "base_uri": "https://localhost:8080/"
    },
    "id": "ol9FT-7ffKJs",
    "outputId": "a037a60f-0471-4cb1-c51e-d2fa50a78eed"
   },
   "outputs": [
    {
     "name": "stdout",
     "output_type": "stream",
     "text": [
      "plum\n"
     ]
    }
   ],
   "source": [
    "print(get_colour_name([212.71339375628312, 178.27371601207335, 221.6467270896092])[1])\n",
    "#(255,192,203)\n",
    "#(192,192,192)"
   ]
  },
  {
   "cell_type": "code",
   "execution_count": 198,
   "metadata": {
    "id": "QWW_LyUCOyTy"
   },
   "outputs": [],
   "source": [
    "MASK_DIR = \"/content/drive/My Drive/grabcutt\""
   ]
  },
  {
   "cell_type": "code",
   "execution_count": 199,
   "metadata": {
    "colab": {
     "base_uri": "https://localhost:8080/"
    },
    "id": "e2c9iLIOOv7p",
    "outputId": "ac1c576a-861b-40a8-999b-3041f48f718f"
   },
   "outputs": [
    {
     "name": "stdout",
     "output_type": "stream",
     "text": [
      "2020031900h41m08s.jpg.png  2020100114h43m03s.jpg.png  2020100205h32m11s.jpg.png\n",
      "2020031918h58m24s.jpg.png  2020100115h49m17s.jpg.png  2020100214h25m32s.jpg.png\n",
      "2020032001h02m42s.jpg.png  2020100116h33m09s.jpg.png  2020100215h30m20s.jpg.png\n",
      "2020093016h48m18s.jpg.png  2020100116h42m54s.jpg.png  2020100215h45m03s.jpg.png\n",
      "2020093017h16m02s.jpg.png  2020100116h43m38s.jpg.png  attributes.csv\n",
      "2020093018h00m13s.jpg.png  2020100117h12m02s.jpg.png  colors.csv\n",
      "2020093021h39m49s.jpg.png  2020100119h32m55s.jpg.png  img_id.csv\n",
      "2020100107h22m02s.jpg.png  2020100121h44m03s.jpg.png\n",
      "2020100113h53m29s.jpg.png  2020100200h00m49s.jpg.png\n",
      "['2020031900h41m08s.jpg.png', '2020031918h58m24s.jpg.png', '2020032001h02m42s.jpg.png', '2020093016h48m18s.jpg.png', '2020093017h16m02s.jpg.png', '2020093018h00m13s.jpg.png', '2020093021h39m49s.jpg.png', '2020100107h22m02s.jpg.png', '2020100113h53m29s.jpg.png', '2020100114h43m03s.jpg.png', '2020100115h49m17s.jpg.png', '2020100116h33m09s.jpg.png', '2020100116h42m54s.jpg.png', '2020100116h43m38s.jpg.png', '2020100117h12m02s.jpg.png', '2020100119h32m55s.jpg.png', '2020100121h44m03s.jpg.png', '2020100200h00m49s.jpg.png', '2020100205h32m11s.jpg.png', '2020100214h25m32s.jpg.png', '2020100215h30m20s.jpg.png', '2020100215h45m03s.jpg.png']\n"
     ]
    }
   ],
   "source": [
    "os.chdir(MASK_DIR)\n",
    "!ls\n",
    "masked_img_list = os.listdir(MASK_DIR)[:-3]\n",
    "print(masked_img_list) "
   ]
  },
  {
   "cell_type": "code",
   "execution_count": 201,
   "metadata": {
    "colab": {
     "base_uri": "https://localhost:8080/",
     "height": 643
    },
    "id": "8JSDyYm4bLjp",
    "outputId": "8bdff9a1-e328-4b31-f6d5-8a3471a878f7"
   },
   "outputs": [
    {
     "name": "stdout",
     "output_type": "stream",
     "text": [
      "['brown', 'silver', 'black']\n",
      "['silver', 'white']\n",
      "['silver', 'white', 'navy', 'teal', 'black']\n",
      "['silver', 'pale_violet_red', 'black', 'gray']\n",
      "['gray', 'plum', 'pale_violet_red']\n",
      "['brown', 'gray', 'navy']\n",
      "['black', 'gray']\n",
      "['black', 'silver']\n",
      "['black', 'silver']\n",
      "['silver', 'navy', 'teal', 'black']\n",
      "['silver', 'pale_violet_red', 'black', 'gray']\n",
      "['black', 'silver', 'white']\n",
      "['black', 'silver']\n",
      "['black', 'gray', 'white']\n",
      "['black', 'gray', 'navy']\n",
      "['black', 'gray']\n",
      "['black', 'silver']\n",
      "['black', 'gray']\n",
      "['brown', 'pale_violet_red', 'gray']\n",
      "['black', 'gray', 'navy']\n",
      "[]\n",
      "[]\n"
     ]
    },
    {
     "data": {
      "image/png": "[encoded data removed]",
      "text/plain": [
       "<Figure size 432x288 with 1 Axes>"
      ]
     },
     "metadata": {
      "needs_background": "light",
      "tags": []
     },
     "output_type": "display_data"
    }
   ],
   "source": [
    "color_list = []\n",
    "for mask in masked_img_list:\n",
    "  color = random_colors(3)\n",
    "  image = cv2.imread(os.path.join(MASK_DIR,mask))\n",
    "  mask = new_make_mask(image)\n",
    "\n",
    "  image = cv2.cvtColor(image, cv2.COLOR_BGR2RGB)\n",
    "  #plt.imshow(image)\n",
    "\n",
    "  gray_image = cv2.cvtColor(image, cv2.COLOR_BGR2GRAY)\n",
    "  #plt.imshow(gray_image, cmap='gray')\n",
    "\n",
    "  resized_image = cv2.resize(image, (1200, 600))\n",
    "  #plt.imshow(resized_image)\n",
    "\n",
    "  rgb = get_colors(image, 8, False)\n",
    "#  print(rgb)\n",
    "  colors = []\n",
    "  for color in rgb:\n",
    "    actual_name, closest_name = get_colour_name(color)\n",
    "    colors.append(closest_name)\n",
    "  colors = list(set(colors))[0:-1]\n",
    "  \n",
    "  color_list.append(colors)\n",
    "  print(colors)"
   ]
  },
  {
   "cell_type": "code",
   "execution_count": 202,
   "metadata": {
    "colab": {
     "base_uri": "https://localhost:8080/"
    },
    "id": "SWfhpUaBbOvG",
    "outputId": "c53b18e4-acbd-4a7a-ec20-ace0e0d633ef"
   },
   "outputs": [
    {
     "name": "stdout",
     "output_type": "stream",
     "text": [
      "[['brown', 'silver', 'black'], ['silver', 'white'], ['silver', 'white', 'navy', 'teal', 'black'], ['silver', 'pale_violet_red', 'black', 'gray'], ['gray', 'plum', 'pale_violet_red'], ['brown', 'gray', 'navy'], ['black', 'gray'], ['black', 'silver'], ['black', 'silver'], ['silver', 'navy', 'teal', 'black'], ['silver', 'pale_violet_red', 'black', 'gray'], ['black', 'silver', 'white'], ['black', 'silver'], ['black', 'gray', 'white'], ['black', 'gray', 'navy'], ['black', 'gray'], ['black', 'silver'], ['black', 'gray'], ['brown', 'pale_violet_red', 'gray'], ['black', 'gray', 'navy'], [], []]\n"
     ]
    }
   ],
   "source": [
    "print(color_list)\n",
    "import csv\n",
    "with open(\"colors.csv\", \"w\", newline=\"\") as f:\n",
    "   writer = csv.writer(f)\n",
    "   writer.writerows(color_list)"
   ]
  },
  {
   "cell_type": "code",
   "execution_count": 170,
   "metadata": {
    "colab": {
     "base_uri": "https://localhost:8080/"
    },
    "id": "Qj9w2KDoZ5Jo",
    "outputId": "81585f33-51cb-466d-f89f-4b7cec255e93"
   },
   "outputs": [
    {
     "name": "stdout",
     "output_type": "stream",
     "text": [
      "Mounted at /content/drive\n"
     ]
    }
   ],
   "source": [
    "from google.colab import drive\n",
    "drive.mount('/content/drive')"
   ]
  }
 ],
 "metadata": {
  "colab": {
   "collapsed_sections": [
    "oomqNDZqsFtP",
    "xn-5kf3ajLp9",
    "OPWFgZyaYPBm"
   ],
   "name": "base_code-4.ipynb",
   "provenance": [],
   "toc_visible": true
  },
  "kernelspec": {
   "display_name": "Python 3",
   "language": "python",
   "name": "python3"
  },
  "language_info": {
   "codemirror_mode": {
    "name": "ipython",
    "version": 3
   },
   "file_extension": ".py",
   "mimetype": "text/x-python",
   "name": "python",
   "nbconvert_exporter": "python",
   "pygments_lexer": "ipython3",
   "version": "3.7.4"
  }
 },
 "nbformat": 4,
 "nbformat_minor": 1
}
